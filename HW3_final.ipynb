{
  "nbformat": 4,
  "nbformat_minor": 0,
  "metadata": {
    "colab": {
      "name": "HW3_final.ipynb",
      "provenance": [],
      "collapsed_sections": [],
      "machine_shape": "hm"
    },
    "kernelspec": {
      "name": "python3",
      "display_name": "Python 3"
    },
    "application/vnd.databricks.v1+notebook": {
      "notebookName": "Classification",
      "dashboards": [],
      "notebookMetadata": {
        "pythonIndentUnit": 2
      },
      "language": "python",
      "widgets": {},
      "notebookOrigID": 3966539020232142
    }
  },
  "cells": [
    {
      "cell_type": "code",
      "metadata": {
        "id": "E1W-abnyVJkl",
        "colab": {
          "base_uri": "https://localhost:8080/"
        },
        "outputId": "5b6f6903-d9a3-4a4c-f54b-44ee4f8c449c"
      },
      "source": [
        "import requests\n",
        "from bs4 import BeautifulSoup\n",
        "from pathlib import Path\n",
        "import time\n",
        "import re\n",
        "from datetime import datetime\n",
        "import os\n",
        "from nltk.corpus import stopwords\n",
        "import pandas as pd\n",
        "import math\n",
        "import json\n",
        "import string\n",
        "import nltk\n",
        "from nltk.stem import LancasterStemmer\n",
        "from nltk.stem import PorterStemmer,WordNetLemmatizer\n",
        "from nltk.tokenize import word_tokenize\n",
        "nltk.download('punkt')\n",
        "nltk.download('stopwords')\n",
        "nltk.download('wordnet')"
      ],
      "execution_count": 1,
      "outputs": [
        {
          "output_type": "stream",
          "name": "stdout",
          "text": [
            "[nltk_data] Downloading package punkt to /root/nltk_data...\n",
            "[nltk_data]   Unzipping tokenizers/punkt.zip.\n",
            "[nltk_data] Downloading package stopwords to /root/nltk_data...\n",
            "[nltk_data]   Unzipping corpora/stopwords.zip.\n",
            "[nltk_data] Downloading package wordnet to /root/nltk_data...\n",
            "[nltk_data]   Unzipping corpora/wordnet.zip.\n"
          ]
        },
        {
          "output_type": "execute_result",
          "data": {
            "text/plain": [
              "True"
            ]
          },
          "metadata": {},
          "execution_count": 1
        }
      ]
    },
    {
      "cell_type": "code",
      "metadata": {
        "colab": {
          "base_uri": "https://localhost:8080/"
        },
        "id": "MjuLW9nCqIno",
        "outputId": "c85c001c-bdc0-4fe2-e926-60211e0abcad"
      },
      "source": [
        "from google.colab import drive\n",
        "drive.mount('/content/drive')"
      ],
      "execution_count": 2,
      "outputs": [
        {
          "output_type": "stream",
          "name": "stdout",
          "text": [
            "Mounted at /content/drive\n"
          ]
        }
      ]
    },
    {
      "cell_type": "code",
      "metadata": {
        "id": "teSL2_aa_Wa-"
      },
      "source": [
        "!unzip /content/drive/MyDrive/ADM/HM3/pages.zip"
      ],
      "execution_count": null,
      "outputs": []
    },
    {
      "cell_type": "markdown",
      "metadata": {
        "id": "_srooWv-SGVB"
      },
      "source": [
        "# Functions"
      ]
    },
    {
      "cell_type": "code",
      "metadata": {
        "id": "6dS_JVgScOlL"
      },
      "source": [
        "# function that returns number of episodes, type anime, releaseDate,endDate\n",
        "def get_information(soup):\n",
        "  lista = soup.find_all(\"div\", class_=\"spaceit_pad\")\n",
        "  type_anime =\"\"\n",
        "  episode = 0\n",
        "  releaseDate =\"\"\n",
        "  endDate = \"\"\n",
        "  for el in lista:\n",
        "    if el.find('span'):\n",
        "      if el.span.text == \"Type:\":\n",
        "        type_anime = el.a.text\n",
        "      elif el.span.text == \"Episodes:\":\n",
        "        episode = [int(s) for s in el.text.split() if s.isdigit()][0]\n",
        "      elif el.span.text == \"Aired:\":\n",
        "        line = re.sub(\"(\\nAired:\\n) | *(\\n)\", '', el.text).split('to')\n",
        "        if len(line) > 0:\n",
        "          # convert string to datatime\n",
        "          releaseDate = datetime.strptime(line[0].lower().strip(),\"%b %d, %Y\")\n",
        "          if len(line) > 1:\n",
        "            endDate = datetime.strptime(line[1].lower().strip(),\"%b %d, %Y\")\n",
        "  return type_anime,episode,releaseDate,endDate"
      ],
      "execution_count": null,
      "outputs": []
    },
    {
      "cell_type": "code",
      "metadata": {
        "id": "3PAxngWrvYNs"
      },
      "source": [
        "# generic function that return the text that contain in a specific tag and specific class\n",
        "def find_element_by_class(class_name,tag_name):\n",
        "  lista = soup.find_all(tag_name, class_=class_name)\n",
        "  final_list = []\n",
        "  set_control = set()\n",
        "  for el in lista:\n",
        "      if el.a.text not in set_control:\n",
        "        set_control.add(el.a.text)\n",
        "        final_list.append(el.a.text)    \n",
        "  return final_list"
      ],
      "execution_count": null,
      "outputs": []
    },
    {
      "cell_type": "code",
      "metadata": {
        "id": "GYqKgLNtynKG"
      },
      "source": [
        "# function that return the Related Anime that contain in a specific tag and specific class\n",
        "def find_anime(class_name,tag_name,child_class,bool_href):\n",
        "  lista = soup.find(tag_name, class_=class_name).find_all(child_class,href=bool_href)\n",
        "  final_list = []\n",
        "  set_control = set()\n",
        "  for el in lista:\n",
        "    if el.text not in set_control:\n",
        "          set_control.add(el.text)\n",
        "          final_list.append(el.text)\n",
        "  return final_list"
      ],
      "execution_count": null,
      "outputs": []
    },
    {
      "cell_type": "code",
      "metadata": {
        "id": "fc-VLLR4hlIE"
      },
      "source": [
        "# function that return the staff \n",
        "def find_staff(tag_name, text, tag_sibling, tag_full_name, tag_role):\n",
        "  staff_table = soup.find(tag_name, text=text).parent.find_next_sibling()\n",
        "  lista = []\n",
        "  for el in staff_table.find_all(tag_sibling):\n",
        "    full_name = el.find_all(tag_full_name)[1].text\n",
        "    role = el.find(tag_role).text\n",
        "    lista.append([full_name,role])\n",
        "  return lista"
      ],
      "execution_count": null,
      "outputs": []
    },
    {
      "cell_type": "code",
      "metadata": {
        "id": "yKR3j8p7mcKK"
      },
      "source": [
        "# function that elaborate a file html and return a line that contains some information about the page\n",
        "def descrip_html(path):\n",
        "  with open(path) as myfile:\n",
        "      soup = BeautifulSoup(myfile)\n",
        "  \n",
        "  title_name =soup.find(\"h1\", class_=\"title-name\").strong.text if soup.find(\"h1\", class_=\"title-name\") is not None else \"\"\n",
        "  type_anime,episode,releaseDate,endDate = get_information(soup)\n",
        "  score = soup.find(\"div\", class_=\"fl-l score\").text if soup.find(\"div\", class_=\"fl-l score\") is not None else \"\"\n",
        "  num_members = soup.find(\"span\", class_=\"numbers members\").strong.text.replace(\",\",\"\") if soup.find(\"span\", class_=\"numbers members\") is not None else \"\"\n",
        "  userCount =  soup.find(\"span\", itemprop=\"ratingCount\").text if soup.find(\"span\", itemprop=\"ratingCount\") is not None else \"\"\n",
        "  ranked = soup.find(\"span\", class_=\"numbers ranked\").strong.text.replace(\"#\",\"\") if soup.find(\"span\", class_=\"numbers ranked\") is not None else \"\"\n",
        "  popularity = soup.find(\"span\", class_=\"numbers popularity\").strong.text.replace(\"#\",\"\") if soup.find(\"span\", class_=\"numbers popularity\") is not None else \"\"\n",
        "  description = soup.find(\"p\", itemprop=\"description\").get_text(strip= True) if soup.find(\"p\", itemprop=\"description\") is not None else \"\"\n",
        "  anime = find_anime(\"anime_detail_related_anime\",\"table\",\"a\",True) if find_anime(\"anime_detail_related_anime\",\"table\",\"a\",True) is not None else \"\"\n",
        "  actor = find_element_by_class(\"h3_characters_voice_actors\",\"h3\") if find_element_by_class(\"h3_characters_voice_actors\",\"h3\") is not None else \"\"\n",
        "  voice = find_element_by_class(\"va-t ar pl4 pr4\",\"td\") if find_element_by_class(\"va-t ar pl4 pr4\",\"td\") is not None else \"\"\n",
        "  staff = find_staff(\"h2\", \"Staff\",\"tr\",\"a\", \"small\") if find_staff(\"h2\", \"Staff\",\"tr\",\"a\", \"small\") is not None else \"\"\n",
        "  url = soup.find(\"meta\", property=\"og:url\")[\"content\"]\n",
        "  return title_name + \"\\t\"+ type_anime + \"\\t\" + str(episode) + \"\\t\" + str(releaseDate) + \"\\t\" + str(endDate) + \\\n",
        "\"\\t\" + str(num_members) + \"\\t\" + str(score) + \"\\t\" + str(userCount) + \"\\t\" + str(ranked) + \"\\t\" \\\n",
        "+ str(popularity) + \"\\t\" + description + \"\\t\" + str(anime) + \"\\t \" + str(actor) + \"\\t\" + str(voice) + \"\\t\" + str(staff) + \"\\t\"+url"
      ],
      "execution_count": null,
      "outputs": []
    },
    {
      "cell_type": "markdown",
      "metadata": {
        "id": "zlSSaqMyxidE"
      },
      "source": [
        "# REQ 1.1"
      ]
    },
    {
      "cell_type": "code",
      "metadata": {
        "id": "UF_I1va4W7wI"
      },
      "source": [
        "# get all url from site\n",
        "list_url = []\n",
        "for i in range(0,19150,50):\n",
        "  if i % 1000 == 0:\n",
        "    print(i)\n",
        "  data = requests.get('https://myanimelist.net/topanime.php?limit='+str(i))\n",
        "  soup = BeautifulSoup(data.content)\n",
        "  lista = soup.find_all(\"h3\", class_=\"anime_ranking_h3\")\n",
        "  for element in lista:\n",
        "    list_url.append(element.find('a')['href'])"
      ],
      "execution_count": null,
      "outputs": []
    },
    {
      "cell_type": "code",
      "metadata": {
        "id": "Spq3fwJNe_-j"
      },
      "source": [
        "# save file\n",
        "with open('links.txt', 'w') as f:\n",
        "    for line in list_url:\n",
        "        f.write(line)\n",
        "        f.write('\\n')"
      ],
      "execution_count": null,
      "outputs": []
    },
    {
      "cell_type": "markdown",
      "metadata": {
        "id": "PADJSpRXuS1A"
      },
      "source": [
        "# REQ 1.2"
      ]
    },
    {
      "cell_type": "code",
      "metadata": {
        "id": "ZPOlCPWvUZW9"
      },
      "source": [
        "# function that return all page html in tha ranking\n",
        "#there are different numbers, like page number, because html was downloaded in different sessions, because we were blocked by the site \n",
        "page_number = 101\n",
        "directory = \"/content/pages/\"\n",
        "with open(\"/content/links.txt\") as myfile:\n",
        "    directory_page_number = \"\"\n",
        "    for i,line in enumerate(myfile):\n",
        "        if i > 2499:\n",
        "          if i % 50==0:\n",
        "            time.sleep(5)\n",
        "            directory_page_number = directory + str(page_number) + \"/\"\n",
        "            Path(directory_page_number).mkdir(parents=True, exist_ok=True)\n",
        "            page_number += 1\n",
        "          # if the site blocks us, we sleep and try again after 20 seconds \n",
        "          while(True):\n",
        "            data = requests.get(line).text\n",
        "            soup = BeautifulSoup(data).find_all(\"div\", class_=\"error\")\n",
        "            if (len(soup) > 0):\n",
        "              time.sleep(20)\n",
        "            else:\n",
        "              break\n",
        "          with open(directory_page_number + 'article_'+str(i)+'.html', 'w') as f:\n",
        "            f.write(data)\n"
      ],
      "execution_count": null,
      "outputs": []
    },
    {
      "cell_type": "code",
      "metadata": {
        "id": "JqDsf6LmE7qd"
      },
      "source": [
        "!zip -r /content/pages2.zip /content/pages"
      ],
      "execution_count": null,
      "outputs": []
    },
    {
      "cell_type": "markdown",
      "metadata": {
        "id": "rZM5GgqUaBoF"
      },
      "source": [
        "# REQ 1.3"
      ]
    },
    {
      "cell_type": "code",
      "metadata": {
        "id": "OMhOTbsKcF0b"
      },
      "source": [
        "#we process the html file by extracting the data we need and we save it in a tsv file \n",
        "dir = \"/content/pages\"\n",
        "new_dir = \"/content/pages_tsv/\"\n",
        "for page_number, page in enumerate(os.listdir(dir),start=1):\n",
        "  directory_page_number = new_dir + str(page) + \"/\"\n",
        "  Path(directory_page_number).mkdir(parents=True, exist_ok=True)\n",
        "  if os.path.isdir(dir+\"/\"+page) and len(os.listdir(dir+\"/\"+page)):\n",
        "    html_files = os.listdir(dir+\"/\"+page)\n",
        "    for anime in html_files:\n",
        "      if anime.endswith('.html'):\n",
        "        final_string =  descrip_html(dir +\"/\"+ page+ \"/\" + anime) + \"\\n\"\n",
        "        with open(directory_page_number + \"anime_\" + anime[anime.find(\"_\")+1: anime.find(\".\")] +\".tsv\",\"w\") as myfile:\n",
        "          myfile.write(final_string)"
      ],
      "execution_count": null,
      "outputs": []
    },
    {
      "cell_type": "code",
      "metadata": {
        "id": "O6JoRGcAQ_mo"
      },
      "source": [
        "#we read all the directories where the tsv files are contained and merge them into a single tsv file\n",
        "with open(\"pages_tsv1.tsv\",\"w\") as file:\n",
        "  dir = \"/content/pages_tsv/\"\n",
        "  for page_number, page in enumerate(os.listdir(dir),start=1):\n",
        "    if os.path.isdir(dir+\"/\"+page) and len(os.listdir(dir+\"/\"+page)):\n",
        "      html_files = os.listdir(dir+\"/\"+page)\n",
        "      for anime in html_files:\n",
        "        if anime.endswith('.tsv'):\n",
        "          with open(dir+page+\"/\"+anime, \"r\") as tsv_file:\n",
        "              file.write(tsv_file.read())"
      ],
      "execution_count": null,
      "outputs": []
    },
    {
      "cell_type": "markdown",
      "metadata": {
        "id": "ho3lx3FgS3P4"
      },
      "source": [
        "# Clear data"
      ]
    },
    {
      "cell_type": "code",
      "metadata": {
        "id": "1Pw9_GtqAVfZ"
      },
      "source": [
        "# load data in pandas\n",
        "col=[\"animeTitle\",\"animeType\",\"animeNumEpisode\",\"releaseDate\",\"endDate\",\"animeNumMembers\",\\\n",
        "           \"animeScore\",\"animeUsers\",\"animeRank\",\"animePopularity\",\"animeDescription\",\\\n",
        "           \"animeRelated\",\"animeCharacters\", \"animeVoices\",\"animeStaff\",\"url\"]\n",
        "df = pd.read_csv(\"/content/drive/MyDrive/ADM/HM3/pages_tsv1.tsv\",sep='\\t', names=col, parse_dates=col[3:5])"
      ],
      "execution_count": 5,
      "outputs": []
    },
    {
      "cell_type": "code",
      "metadata": {
        "colab": {
          "base_uri": "https://localhost:8080/"
        },
        "id": "d3xoZFUBFJTK",
        "outputId": "b3369f27-c004-4965-fb96-4cf9a4e16768"
      },
      "source": [
        "df.shape"
      ],
      "execution_count": 6,
      "outputs": [
        {
          "output_type": "execute_result",
          "data": {
            "text/plain": [
              "(19128, 16)"
            ]
          },
          "metadata": {},
          "execution_count": 6
        }
      ]
    },
    {
      "cell_type": "code",
      "metadata": {
        "colab": {
          "base_uri": "https://localhost:8080/"
        },
        "id": "RRVdhH4iKqAo",
        "outputId": "d64d16dc-cfd8-4529-f615-83585ffdfcae"
      },
      "source": [
        "# As we can, we must to remove all null value\n",
        "df.info()"
      ],
      "execution_count": 7,
      "outputs": [
        {
          "output_type": "stream",
          "name": "stdout",
          "text": [
            "<class 'pandas.core.frame.DataFrame'>\n",
            "RangeIndex: 19128 entries, 0 to 19127\n",
            "Data columns (total 16 columns):\n",
            " #   Column            Non-Null Count  Dtype         \n",
            "---  ------            --------------  -----         \n",
            " 0   animeTitle        19126 non-null  object        \n",
            " 1   animeType         19128 non-null  object        \n",
            " 2   animeNumEpisode   19128 non-null  int64         \n",
            " 3   releaseDate       19128 non-null  datetime64[ns]\n",
            " 4   endDate           19128 non-null  datetime64[ns]\n",
            " 5   animeNumMembers   19126 non-null  float64       \n",
            " 6   animeScore        13438 non-null  float64       \n",
            " 7   animeUsers        13438 non-null  float64       \n",
            " 8   animeRank         17305 non-null  float64       \n",
            " 9   animePopularity   19126 non-null  float64       \n",
            " 10  animeDescription  19120 non-null  object        \n",
            " 11  animeRelated      19128 non-null  object        \n",
            " 12  animeCharacters   19128 non-null  object        \n",
            " 13  animeVoices       19128 non-null  object        \n",
            " 14  animeStaff        19128 non-null  object        \n",
            " 15  url               19128 non-null  object        \n",
            "dtypes: datetime64[ns](2), float64(5), int64(1), object(8)\n",
            "memory usage: 2.3+ MB\n"
          ]
        }
      ]
    },
    {
      "cell_type": "code",
      "metadata": {
        "colab": {
          "base_uri": "https://localhost:8080/"
        },
        "id": "vD7kFoB7KsAw",
        "outputId": "ede665fb-3b30-4d97-e1f7-007454a1f81e"
      },
      "source": [
        "# number of null value\n",
        "df.isnull().sum()"
      ],
      "execution_count": 8,
      "outputs": [
        {
          "output_type": "execute_result",
          "data": {
            "text/plain": [
              "animeTitle             2\n",
              "animeType              0\n",
              "animeNumEpisode        0\n",
              "releaseDate            0\n",
              "endDate                0\n",
              "animeNumMembers        2\n",
              "animeScore          5690\n",
              "animeUsers          5690\n",
              "animeRank           1823\n",
              "animePopularity        2\n",
              "animeDescription       8\n",
              "animeRelated           0\n",
              "animeCharacters        0\n",
              "animeVoices            0\n",
              "animeStaff             0\n",
              "url                    0\n",
              "dtype: int64"
            ]
          },
          "metadata": {},
          "execution_count": 8
        }
      ]
    },
    {
      "cell_type": "code",
      "metadata": {
        "colab": {
          "base_uri": "https://localhost:8080/"
        },
        "id": "OEkf9m3MDEYv",
        "outputId": "0110eebc-8b24-437a-b9a5-c3bd8e7ea7bc"
      },
      "source": [
        "\n",
        "len(df.animeUsers.unique())"
      ],
      "execution_count": 9,
      "outputs": [
        {
          "output_type": "execute_result",
          "data": {
            "text/plain": [
              "7017"
            ]
          },
          "metadata": {},
          "execution_count": 9
        }
      ]
    },
    {
      "cell_type": "code",
      "metadata": {
        "id": "0OwFec3xDebY"
      },
      "source": [
        "df[\"animeScore\"] = df[\"animeScore\"].where(pd.notnull(df[\"animeScore\"]), None)\n",
        "df[\"animeUsers\"] = df[\"animeUsers\"].where(pd.notnull(df[\"animeUsers\"]), None)\n",
        "df[\"animeRank\"] = df[\"animeRank\"].where(pd.notnull(df[\"animeRank\"]), None)"
      ],
      "execution_count": 10,
      "outputs": []
    },
    {
      "cell_type": "code",
      "metadata": {
        "colab": {
          "base_uri": "https://localhost:8080/"
        },
        "id": "CKkQgPswEBEP",
        "outputId": "1f32328c-0632-4afc-f0b4-5be380de6de2"
      },
      "source": [
        "df[\"animeScore\"].isnull().sum()"
      ],
      "execution_count": 11,
      "outputs": [
        {
          "output_type": "execute_result",
          "data": {
            "text/plain": [
              "5690"
            ]
          },
          "metadata": {},
          "execution_count": 11
        }
      ]
    },
    {
      "cell_type": "code",
      "metadata": {
        "colab": {
          "base_uri": "https://localhost:8080/",
          "height": 270
        },
        "id": "jHtmrd9SGZ4D",
        "outputId": "f3856b7b-ee4a-4368-8e47-fe6c6927668f"
      },
      "source": [
        "# as we can see, animeTitle, animeNumMembers, animePopularity etc are null, so we need to remove this line\n",
        "df[df.animeNumMembers.isnull()]"
      ],
      "execution_count": 12,
      "outputs": [
        {
          "output_type": "execute_result",
          "data": {
            "text/html": [
              "<div>\n",
              "<style scoped>\n",
              "    .dataframe tbody tr th:only-of-type {\n",
              "        vertical-align: middle;\n",
              "    }\n",
              "\n",
              "    .dataframe tbody tr th {\n",
              "        vertical-align: top;\n",
              "    }\n",
              "\n",
              "    .dataframe thead th {\n",
              "        text-align: right;\n",
              "    }\n",
              "</style>\n",
              "<table border=\"1\" class=\"dataframe\">\n",
              "  <thead>\n",
              "    <tr style=\"text-align: right;\">\n",
              "      <th></th>\n",
              "      <th>animeTitle</th>\n",
              "      <th>animeType</th>\n",
              "      <th>animeNumEpisode</th>\n",
              "      <th>releaseDate</th>\n",
              "      <th>endDate</th>\n",
              "      <th>animeNumMembers</th>\n",
              "      <th>animeScore</th>\n",
              "      <th>animeUsers</th>\n",
              "      <th>animeRank</th>\n",
              "      <th>animePopularity</th>\n",
              "      <th>animeDescription</th>\n",
              "      <th>animeRelated</th>\n",
              "      <th>animeCharacters</th>\n",
              "      <th>animeVoices</th>\n",
              "      <th>animeStaff</th>\n",
              "      <th>url</th>\n",
              "    </tr>\n",
              "  </thead>\n",
              "  <tbody>\n",
              "    <tr>\n",
              "      <th>1512</th>\n",
              "      <td>NaN</td>\n",
              "      <td>TV</td>\n",
              "      <td>64</td>\n",
              "      <td>2009-04-05</td>\n",
              "      <td>2010-07-04</td>\n",
              "      <td>NaN</td>\n",
              "      <td>None</td>\n",
              "      <td>None</td>\n",
              "      <td>None</td>\n",
              "      <td>NaN</td>\n",
              "      <td>NaN</td>\n",
              "      <td>['Fullmetal Alchemist', 'Fullmetal Alchemist: ...</td>\n",
              "      <td>['Elric, Edward', 'Elric, Alphonse', 'Mustang...</td>\n",
              "      <td>['Park, Romi', 'Kugimiya, Rie', 'Miki, Shinich...</td>\n",
              "      <td>[['Cook, Justin', 'Producer'], ['Yonai, Norito...</td>\n",
              "      <td>https://myanimelist.net/anime/4379/Inmu__Ikeni...</td>\n",
              "    </tr>\n",
              "    <tr>\n",
              "      <th>14958</th>\n",
              "      <td>NaN</td>\n",
              "      <td>TV</td>\n",
              "      <td>64</td>\n",
              "      <td>2009-04-05</td>\n",
              "      <td>2010-07-04</td>\n",
              "      <td>NaN</td>\n",
              "      <td>None</td>\n",
              "      <td>None</td>\n",
              "      <td>None</td>\n",
              "      <td>NaN</td>\n",
              "      <td>NaN</td>\n",
              "      <td>['Fullmetal Alchemist', 'Fullmetal Alchemist: ...</td>\n",
              "      <td>['Elric, Edward', 'Elric, Alphonse', 'Mustang...</td>\n",
              "      <td>['Park, Romi', 'Kugimiya, Rie', 'Miki, Shinich...</td>\n",
              "      <td>[['Cook, Justin', 'Producer'], ['Yonai, Norito...</td>\n",
              "      <td>https://myanimelist.net/anime/10079/Hoshizora_...</td>\n",
              "    </tr>\n",
              "  </tbody>\n",
              "</table>\n",
              "</div>"
            ],
            "text/plain": [
              "      animeTitle  ...                                                url\n",
              "1512         NaN  ...  https://myanimelist.net/anime/4379/Inmu__Ikeni...\n",
              "14958        NaN  ...  https://myanimelist.net/anime/10079/Hoshizora_...\n",
              "\n",
              "[2 rows x 16 columns]"
            ]
          },
          "metadata": {},
          "execution_count": 12
        }
      ]
    },
    {
      "cell_type": "code",
      "metadata": {
        "colab": {
          "base_uri": "https://localhost:8080/"
        },
        "id": "38LMVoFLH8Xb",
        "outputId": "c16a7d70-e98a-4613-bb4c-228f30e90403"
      },
      "source": [
        "# number duplicated\n",
        "df[df.duplicated()].shape"
      ],
      "execution_count": 13,
      "outputs": [
        {
          "output_type": "execute_result",
          "data": {
            "text/plain": [
              "(2008, 16)"
            ]
          },
          "metadata": {},
          "execution_count": 13
        }
      ]
    },
    {
      "cell_type": "code",
      "metadata": {
        "colab": {
          "base_uri": "https://localhost:8080/"
        },
        "id": "ASDumOoLJFGy",
        "outputId": "8e83bb78-46bb-4733-b189-86ef162c4d42"
      },
      "source": [
        "# number description duplicated\n",
        "df[df.animeDescription.duplicated()].shape"
      ],
      "execution_count": 14,
      "outputs": [
        {
          "output_type": "execute_result",
          "data": {
            "text/plain": [
              "(4333, 16)"
            ]
          },
          "metadata": {},
          "execution_count": 14
        }
      ]
    },
    {
      "cell_type": "code",
      "metadata": {
        "colab": {
          "base_uri": "https://localhost:8080/",
          "height": 605
        },
        "id": "pll0AItOJUE9",
        "outputId": "b8ecca2e-7367-48da-ed52-278dcadc0be8"
      },
      "source": [
        "df[df.animeDescription.duplicated()].head()"
      ],
      "execution_count": 15,
      "outputs": [
        {
          "output_type": "execute_result",
          "data": {
            "text/html": [
              "<div>\n",
              "<style scoped>\n",
              "    .dataframe tbody tr th:only-of-type {\n",
              "        vertical-align: middle;\n",
              "    }\n",
              "\n",
              "    .dataframe tbody tr th {\n",
              "        vertical-align: top;\n",
              "    }\n",
              "\n",
              "    .dataframe thead th {\n",
              "        text-align: right;\n",
              "    }\n",
              "</style>\n",
              "<table border=\"1\" class=\"dataframe\">\n",
              "  <thead>\n",
              "    <tr style=\"text-align: right;\">\n",
              "      <th></th>\n",
              "      <th>animeTitle</th>\n",
              "      <th>animeType</th>\n",
              "      <th>animeNumEpisode</th>\n",
              "      <th>releaseDate</th>\n",
              "      <th>endDate</th>\n",
              "      <th>animeNumMembers</th>\n",
              "      <th>animeScore</th>\n",
              "      <th>animeUsers</th>\n",
              "      <th>animeRank</th>\n",
              "      <th>animePopularity</th>\n",
              "      <th>animeDescription</th>\n",
              "      <th>animeRelated</th>\n",
              "      <th>animeCharacters</th>\n",
              "      <th>animeVoices</th>\n",
              "      <th>animeStaff</th>\n",
              "      <th>url</th>\n",
              "    </tr>\n",
              "  </thead>\n",
              "  <tbody>\n",
              "    <tr>\n",
              "      <th>28</th>\n",
              "      <td>Shinkansen Henkei Robo Shinkalion: Mirai kara ...</td>\n",
              "      <td>TV</td>\n",
              "      <td>64</td>\n",
              "      <td>2009-04-05</td>\n",
              "      <td>2010-07-04</td>\n",
              "      <td>922.0</td>\n",
              "      <td>6.74</td>\n",
              "      <td>170</td>\n",
              "      <td>4917</td>\n",
              "      <td>11387.0</td>\n",
              "      <td>No synopsis information has been added to this...</td>\n",
              "      <td>['Fullmetal Alchemist', 'Fullmetal Alchemist: ...</td>\n",
              "      <td>['Elric, Edward', 'Elric, Alphonse', 'Mustang...</td>\n",
              "      <td>['Park, Romi', 'Kugimiya, Rie', 'Miki, Shinich...</td>\n",
              "      <td>[['Cook, Justin', 'Producer'], ['Yonai, Norito...</td>\n",
              "      <td>https://myanimelist.net/anime/39967/Shinkansen...</td>\n",
              "    </tr>\n",
              "    <tr>\n",
              "      <th>29</th>\n",
              "      <td>Monster Strike the Movie: Lucifer - Zetsubou n...</td>\n",
              "      <td>TV</td>\n",
              "      <td>64</td>\n",
              "      <td>2009-04-05</td>\n",
              "      <td>2010-07-04</td>\n",
              "      <td>2975.0</td>\n",
              "      <td>6.73</td>\n",
              "      <td>158</td>\n",
              "      <td>4933</td>\n",
              "      <td>8413.0</td>\n",
              "      <td>No synopsis information has been added to this...</td>\n",
              "      <td>['Fullmetal Alchemist', 'Fullmetal Alchemist: ...</td>\n",
              "      <td>['Elric, Edward', 'Elric, Alphonse', 'Mustang...</td>\n",
              "      <td>['Park, Romi', 'Kugimiya, Rie', 'Miki, Shinich...</td>\n",
              "      <td>[['Cook, Justin', 'Producer'], ['Yonai, Norito...</td>\n",
              "      <td>https://myanimelist.net/anime/41519/Monster_St...</td>\n",
              "    </tr>\n",
              "    <tr>\n",
              "      <th>152</th>\n",
              "      <td>McDull and McMug</td>\n",
              "      <td>TV</td>\n",
              "      <td>64</td>\n",
              "      <td>2009-04-05</td>\n",
              "      <td>2010-07-04</td>\n",
              "      <td>15.0</td>\n",
              "      <td>None</td>\n",
              "      <td>None</td>\n",
              "      <td>17248</td>\n",
              "      <td>18927.0</td>\n",
              "      <td>No synopsis information has been added to this...</td>\n",
              "      <td>['Fullmetal Alchemist', 'Fullmetal Alchemist: ...</td>\n",
              "      <td>['Elric, Edward', 'Elric, Alphonse', 'Mustang...</td>\n",
              "      <td>['Park, Romi', 'Kugimiya, Rie', 'Miki, Shinich...</td>\n",
              "      <td>[['Cook, Justin', 'Producer'], ['Yonai, Norito...</td>\n",
              "      <td>https://myanimelist.net/anime/43356/McDull_and...</td>\n",
              "    </tr>\n",
              "    <tr>\n",
              "      <th>155</th>\n",
              "      <td>McDull: Niu Hua Chen</td>\n",
              "      <td>TV</td>\n",
              "      <td>64</td>\n",
              "      <td>2009-04-05</td>\n",
              "      <td>2010-07-04</td>\n",
              "      <td>29.0</td>\n",
              "      <td>None</td>\n",
              "      <td>None</td>\n",
              "      <td>17254</td>\n",
              "      <td>18596.0</td>\n",
              "      <td>No synopsis information has been added to this...</td>\n",
              "      <td>['Fullmetal Alchemist', 'Fullmetal Alchemist: ...</td>\n",
              "      <td>['Elric, Edward', 'Elric, Alphonse', 'Mustang...</td>\n",
              "      <td>['Park, Romi', 'Kugimiya, Rie', 'Miki, Shinich...</td>\n",
              "      <td>[['Cook, Justin', 'Producer'], ['Yonai, Norito...</td>\n",
              "      <td>https://myanimelist.net/anime/43313/McDull__Ni...</td>\n",
              "    </tr>\n",
              "    <tr>\n",
              "      <th>158</th>\n",
              "      <td>Mao Mi De Hu Zi</td>\n",
              "      <td>TV</td>\n",
              "      <td>64</td>\n",
              "      <td>2009-04-05</td>\n",
              "      <td>2010-07-04</td>\n",
              "      <td>15.0</td>\n",
              "      <td>None</td>\n",
              "      <td>None</td>\n",
              "      <td>17210</td>\n",
              "      <td>18925.0</td>\n",
              "      <td>No synopsis information has been added to this...</td>\n",
              "      <td>['Fullmetal Alchemist', 'Fullmetal Alchemist: ...</td>\n",
              "      <td>['Elric, Edward', 'Elric, Alphonse', 'Mustang...</td>\n",
              "      <td>['Park, Romi', 'Kugimiya, Rie', 'Miki, Shinich...</td>\n",
              "      <td>[['Cook, Justin', 'Producer'], ['Yonai, Norito...</td>\n",
              "      <td>https://myanimelist.net/anime/43504/Mao_Mi_De_...</td>\n",
              "    </tr>\n",
              "  </tbody>\n",
              "</table>\n",
              "</div>"
            ],
            "text/plain": [
              "                                            animeTitle  ...                                                url\n",
              "28   Shinkansen Henkei Robo Shinkalion: Mirai kara ...  ...  https://myanimelist.net/anime/39967/Shinkansen...\n",
              "29   Monster Strike the Movie: Lucifer - Zetsubou n...  ...  https://myanimelist.net/anime/41519/Monster_St...\n",
              "152                                   McDull and McMug  ...  https://myanimelist.net/anime/43356/McDull_and...\n",
              "155                               McDull: Niu Hua Chen  ...  https://myanimelist.net/anime/43313/McDull__Ni...\n",
              "158                                    Mao Mi De Hu Zi  ...  https://myanimelist.net/anime/43504/Mao_Mi_De_...\n",
              "\n",
              "[5 rows x 16 columns]"
            ]
          },
          "metadata": {},
          "execution_count": 15
        }
      ]
    },
    {
      "cell_type": "code",
      "metadata": {
        "id": "zpXVe6lQKACN"
      },
      "source": [
        "# drop all line duplicated\n",
        "df.drop_duplicates(inplace=True)"
      ],
      "execution_count": 16,
      "outputs": []
    },
    {
      "cell_type": "code",
      "metadata": {
        "colab": {
          "base_uri": "https://localhost:8080/",
          "height": 69
        },
        "id": "-j8ZkEjBKFfh",
        "outputId": "4595c151-4e3f-430b-cd63-2b90dc465336"
      },
      "source": [
        "# as we can see, we eliminated all duplicated line\n",
        "df[df.duplicated()]"
      ],
      "execution_count": 17,
      "outputs": [
        {
          "output_type": "execute_result",
          "data": {
            "text/html": [
              "<div>\n",
              "<style scoped>\n",
              "    .dataframe tbody tr th:only-of-type {\n",
              "        vertical-align: middle;\n",
              "    }\n",
              "\n",
              "    .dataframe tbody tr th {\n",
              "        vertical-align: top;\n",
              "    }\n",
              "\n",
              "    .dataframe thead th {\n",
              "        text-align: right;\n",
              "    }\n",
              "</style>\n",
              "<table border=\"1\" class=\"dataframe\">\n",
              "  <thead>\n",
              "    <tr style=\"text-align: right;\">\n",
              "      <th></th>\n",
              "      <th>animeTitle</th>\n",
              "      <th>animeType</th>\n",
              "      <th>animeNumEpisode</th>\n",
              "      <th>releaseDate</th>\n",
              "      <th>endDate</th>\n",
              "      <th>animeNumMembers</th>\n",
              "      <th>animeScore</th>\n",
              "      <th>animeUsers</th>\n",
              "      <th>animeRank</th>\n",
              "      <th>animePopularity</th>\n",
              "      <th>animeDescription</th>\n",
              "      <th>animeRelated</th>\n",
              "      <th>animeCharacters</th>\n",
              "      <th>animeVoices</th>\n",
              "      <th>animeStaff</th>\n",
              "      <th>url</th>\n",
              "    </tr>\n",
              "  </thead>\n",
              "  <tbody>\n",
              "  </tbody>\n",
              "</table>\n",
              "</div>"
            ],
            "text/plain": [
              "Empty DataFrame\n",
              "Columns: [animeTitle, animeType, animeNumEpisode, releaseDate, endDate, animeNumMembers, animeScore, animeUsers, animeRank, animePopularity, animeDescription, animeRelated, animeCharacters, animeVoices, animeStaff, url]\n",
              "Index: []"
            ]
          },
          "metadata": {},
          "execution_count": 17
        }
      ]
    },
    {
      "cell_type": "code",
      "metadata": {
        "colab": {
          "base_uri": "https://localhost:8080/"
        },
        "id": "hjoMMl5ZFVqz",
        "outputId": "c159dfb0-e089-496e-f730-517101992d66"
      },
      "source": [
        "#we see the number of null value for each columns\n",
        "df.isnull().sum()"
      ],
      "execution_count": 18,
      "outputs": [
        {
          "output_type": "execute_result",
          "data": {
            "text/plain": [
              "animeTitle             2\n",
              "animeType              0\n",
              "animeNumEpisode        0\n",
              "releaseDate            0\n",
              "endDate                0\n",
              "animeNumMembers        2\n",
              "animeScore          5690\n",
              "animeUsers          5690\n",
              "animeRank           1823\n",
              "animePopularity        2\n",
              "animeDescription       8\n",
              "animeRelated           0\n",
              "animeCharacters        0\n",
              "animeVoices            0\n",
              "animeStaff             0\n",
              "url                    0\n",
              "dtype: int64"
            ]
          },
          "metadata": {},
          "execution_count": 18
        }
      ]
    },
    {
      "cell_type": "code",
      "metadata": {
        "colab": {
          "base_uri": "https://localhost:8080/",
          "height": 270
        },
        "id": "uglvc3eBGPys",
        "outputId": "a58cad3a-43bc-4580-b182-25367b8eb3ec"
      },
      "source": [
        "# we check the only two line null of description column\n",
        "df[df.animeDescription.isnull()].head(2)"
      ],
      "execution_count": 19,
      "outputs": [
        {
          "output_type": "execute_result",
          "data": {
            "text/html": [
              "<div>\n",
              "<style scoped>\n",
              "    .dataframe tbody tr th:only-of-type {\n",
              "        vertical-align: middle;\n",
              "    }\n",
              "\n",
              "    .dataframe tbody tr th {\n",
              "        vertical-align: top;\n",
              "    }\n",
              "\n",
              "    .dataframe thead th {\n",
              "        text-align: right;\n",
              "    }\n",
              "</style>\n",
              "<table border=\"1\" class=\"dataframe\">\n",
              "  <thead>\n",
              "    <tr style=\"text-align: right;\">\n",
              "      <th></th>\n",
              "      <th>animeTitle</th>\n",
              "      <th>animeType</th>\n",
              "      <th>animeNumEpisode</th>\n",
              "      <th>releaseDate</th>\n",
              "      <th>endDate</th>\n",
              "      <th>animeNumMembers</th>\n",
              "      <th>animeScore</th>\n",
              "      <th>animeUsers</th>\n",
              "      <th>animeRank</th>\n",
              "      <th>animePopularity</th>\n",
              "      <th>animeDescription</th>\n",
              "      <th>animeRelated</th>\n",
              "      <th>animeCharacters</th>\n",
              "      <th>animeVoices</th>\n",
              "      <th>animeStaff</th>\n",
              "      <th>url</th>\n",
              "    </tr>\n",
              "  </thead>\n",
              "  <tbody>\n",
              "    <tr>\n",
              "      <th>182</th>\n",
              "      <td>Mayi He Da Xiang</td>\n",
              "      <td>TV</td>\n",
              "      <td>64</td>\n",
              "      <td>2009-04-05</td>\n",
              "      <td>2010-07-04</td>\n",
              "      <td>15.0</td>\n",
              "      <td>None</td>\n",
              "      <td>None</td>\n",
              "      <td>17242</td>\n",
              "      <td>18926.0</td>\n",
              "      <td>NaN</td>\n",
              "      <td>['Fullmetal Alchemist', 'Fullmetal Alchemist: ...</td>\n",
              "      <td>['Elric, Edward', 'Elric, Alphonse', 'Mustang...</td>\n",
              "      <td>['Park, Romi', 'Kugimiya, Rie', 'Miki, Shinich...</td>\n",
              "      <td>[['Cook, Justin', 'Producer'], ['Yonai, Norito...</td>\n",
              "      <td>https://myanimelist.net/anime/43616/Mayi_He_Da...</td>\n",
              "    </tr>\n",
              "    <tr>\n",
              "      <th>1512</th>\n",
              "      <td>NaN</td>\n",
              "      <td>TV</td>\n",
              "      <td>64</td>\n",
              "      <td>2009-04-05</td>\n",
              "      <td>2010-07-04</td>\n",
              "      <td>NaN</td>\n",
              "      <td>None</td>\n",
              "      <td>None</td>\n",
              "      <td>None</td>\n",
              "      <td>NaN</td>\n",
              "      <td>NaN</td>\n",
              "      <td>['Fullmetal Alchemist', 'Fullmetal Alchemist: ...</td>\n",
              "      <td>['Elric, Edward', 'Elric, Alphonse', 'Mustang...</td>\n",
              "      <td>['Park, Romi', 'Kugimiya, Rie', 'Miki, Shinich...</td>\n",
              "      <td>[['Cook, Justin', 'Producer'], ['Yonai, Norito...</td>\n",
              "      <td>https://myanimelist.net/anime/4379/Inmu__Ikeni...</td>\n",
              "    </tr>\n",
              "  </tbody>\n",
              "</table>\n",
              "</div>"
            ],
            "text/plain": [
              "            animeTitle  ...                                                url\n",
              "182   Mayi He Da Xiang  ...  https://myanimelist.net/anime/43616/Mayi_He_Da...\n",
              "1512               NaN  ...  https://myanimelist.net/anime/4379/Inmu__Ikeni...\n",
              "\n",
              "[2 rows x 16 columns]"
            ]
          },
          "metadata": {},
          "execution_count": 19
        }
      ]
    },
    {
      "cell_type": "code",
      "metadata": {
        "id": "BGyYSFFeO-8n"
      },
      "source": [
        "# we drop the null column in animeDescription\n",
        "df.dropna(subset=['animeDescription'], inplace=True)"
      ],
      "execution_count": 20,
      "outputs": []
    },
    {
      "cell_type": "code",
      "metadata": {
        "colab": {
          "base_uri": "https://localhost:8080/",
          "height": 69
        },
        "id": "uIRHTR2SPMWy",
        "outputId": "11589276-8755-42c4-e793-80d9cb62fe14"
      },
      "source": [
        "# check null\n",
        "df[df.animeDescription.isnull()].head()"
      ],
      "execution_count": 21,
      "outputs": [
        {
          "output_type": "execute_result",
          "data": {
            "text/html": [
              "<div>\n",
              "<style scoped>\n",
              "    .dataframe tbody tr th:only-of-type {\n",
              "        vertical-align: middle;\n",
              "    }\n",
              "\n",
              "    .dataframe tbody tr th {\n",
              "        vertical-align: top;\n",
              "    }\n",
              "\n",
              "    .dataframe thead th {\n",
              "        text-align: right;\n",
              "    }\n",
              "</style>\n",
              "<table border=\"1\" class=\"dataframe\">\n",
              "  <thead>\n",
              "    <tr style=\"text-align: right;\">\n",
              "      <th></th>\n",
              "      <th>animeTitle</th>\n",
              "      <th>animeType</th>\n",
              "      <th>animeNumEpisode</th>\n",
              "      <th>releaseDate</th>\n",
              "      <th>endDate</th>\n",
              "      <th>animeNumMembers</th>\n",
              "      <th>animeScore</th>\n",
              "      <th>animeUsers</th>\n",
              "      <th>animeRank</th>\n",
              "      <th>animePopularity</th>\n",
              "      <th>animeDescription</th>\n",
              "      <th>animeRelated</th>\n",
              "      <th>animeCharacters</th>\n",
              "      <th>animeVoices</th>\n",
              "      <th>animeStaff</th>\n",
              "      <th>url</th>\n",
              "    </tr>\n",
              "  </thead>\n",
              "  <tbody>\n",
              "  </tbody>\n",
              "</table>\n",
              "</div>"
            ],
            "text/plain": [
              "Empty DataFrame\n",
              "Columns: [animeTitle, animeType, animeNumEpisode, releaseDate, endDate, animeNumMembers, animeScore, animeUsers, animeRank, animePopularity, animeDescription, animeRelated, animeCharacters, animeVoices, animeStaff, url]\n",
              "Index: []"
            ]
          },
          "metadata": {},
          "execution_count": 21
        }
      ]
    },
    {
      "cell_type": "code",
      "metadata": {
        "id": "2bYv6O-JPgyq"
      },
      "source": [
        "# we drop the null column in endDate\n",
        "df.dropna(subset=['endDate'], inplace=True)"
      ],
      "execution_count": 22,
      "outputs": []
    },
    {
      "cell_type": "code",
      "metadata": {
        "colab": {
          "base_uri": "https://localhost:8080/"
        },
        "id": "s01NwjMhPjN3",
        "outputId": "99282def-1682-49e8-f969-47da44b203c7"
      },
      "source": [
        "# as we can see, we just need animeScore, animeUsers,animeRank to fix \n",
        "df.isnull().sum()"
      ],
      "execution_count": 23,
      "outputs": [
        {
          "output_type": "execute_result",
          "data": {
            "text/plain": [
              "animeTitle             0\n",
              "animeType              0\n",
              "animeNumEpisode        0\n",
              "releaseDate            0\n",
              "endDate                0\n",
              "animeNumMembers        0\n",
              "animeScore          5683\n",
              "animeUsers          5683\n",
              "animeRank           1819\n",
              "animePopularity        0\n",
              "animeDescription       0\n",
              "animeRelated           0\n",
              "animeCharacters        0\n",
              "animeVoices            0\n",
              "animeStaff             0\n",
              "url                    0\n",
              "dtype: int64"
            ]
          },
          "metadata": {},
          "execution_count": 23
        }
      ]
    },
    {
      "cell_type": "code",
      "metadata": {
        "colab": {
          "base_uri": "https://localhost:8080/",
          "height": 69
        },
        "id": "CTzKgBYHPlt8",
        "outputId": "50716338-8e24-4e03-c429-a42e1fc7c6b2"
      },
      "source": [
        "#check if there are negative scores\n",
        "df[df.animeScore <= 0]"
      ],
      "execution_count": 24,
      "outputs": [
        {
          "output_type": "execute_result",
          "data": {
            "text/html": [
              "<div>\n",
              "<style scoped>\n",
              "    .dataframe tbody tr th:only-of-type {\n",
              "        vertical-align: middle;\n",
              "    }\n",
              "\n",
              "    .dataframe tbody tr th {\n",
              "        vertical-align: top;\n",
              "    }\n",
              "\n",
              "    .dataframe thead th {\n",
              "        text-align: right;\n",
              "    }\n",
              "</style>\n",
              "<table border=\"1\" class=\"dataframe\">\n",
              "  <thead>\n",
              "    <tr style=\"text-align: right;\">\n",
              "      <th></th>\n",
              "      <th>animeTitle</th>\n",
              "      <th>animeType</th>\n",
              "      <th>animeNumEpisode</th>\n",
              "      <th>releaseDate</th>\n",
              "      <th>endDate</th>\n",
              "      <th>animeNumMembers</th>\n",
              "      <th>animeScore</th>\n",
              "      <th>animeUsers</th>\n",
              "      <th>animeRank</th>\n",
              "      <th>animePopularity</th>\n",
              "      <th>animeDescription</th>\n",
              "      <th>animeRelated</th>\n",
              "      <th>animeCharacters</th>\n",
              "      <th>animeVoices</th>\n",
              "      <th>animeStaff</th>\n",
              "      <th>url</th>\n",
              "    </tr>\n",
              "  </thead>\n",
              "  <tbody>\n",
              "  </tbody>\n",
              "</table>\n",
              "</div>"
            ],
            "text/plain": [
              "Empty DataFrame\n",
              "Columns: [animeTitle, animeType, animeNumEpisode, releaseDate, endDate, animeNumMembers, animeScore, animeUsers, animeRank, animePopularity, animeDescription, animeRelated, animeCharacters, animeVoices, animeStaff, url]\n",
              "Index: []"
            ]
          },
          "metadata": {},
          "execution_count": 24
        }
      ]
    },
    {
      "cell_type": "code",
      "metadata": {
        "colab": {
          "base_uri": "https://localhost:8080/",
          "height": 69
        },
        "id": "nLQVA0iAP1Ca",
        "outputId": "65299b0f-09d2-4966-f8bf-9803071ab1b1"
      },
      "source": [
        "##check if there are negative animeUsers\n",
        "df[df.animeUsers<= 0]"
      ],
      "execution_count": 25,
      "outputs": [
        {
          "output_type": "execute_result",
          "data": {
            "text/html": [
              "<div>\n",
              "<style scoped>\n",
              "    .dataframe tbody tr th:only-of-type {\n",
              "        vertical-align: middle;\n",
              "    }\n",
              "\n",
              "    .dataframe tbody tr th {\n",
              "        vertical-align: top;\n",
              "    }\n",
              "\n",
              "    .dataframe thead th {\n",
              "        text-align: right;\n",
              "    }\n",
              "</style>\n",
              "<table border=\"1\" class=\"dataframe\">\n",
              "  <thead>\n",
              "    <tr style=\"text-align: right;\">\n",
              "      <th></th>\n",
              "      <th>animeTitle</th>\n",
              "      <th>animeType</th>\n",
              "      <th>animeNumEpisode</th>\n",
              "      <th>releaseDate</th>\n",
              "      <th>endDate</th>\n",
              "      <th>animeNumMembers</th>\n",
              "      <th>animeScore</th>\n",
              "      <th>animeUsers</th>\n",
              "      <th>animeRank</th>\n",
              "      <th>animePopularity</th>\n",
              "      <th>animeDescription</th>\n",
              "      <th>animeRelated</th>\n",
              "      <th>animeCharacters</th>\n",
              "      <th>animeVoices</th>\n",
              "      <th>animeStaff</th>\n",
              "      <th>url</th>\n",
              "    </tr>\n",
              "  </thead>\n",
              "  <tbody>\n",
              "  </tbody>\n",
              "</table>\n",
              "</div>"
            ],
            "text/plain": [
              "Empty DataFrame\n",
              "Columns: [animeTitle, animeType, animeNumEpisode, releaseDate, endDate, animeNumMembers, animeScore, animeUsers, animeRank, animePopularity, animeDescription, animeRelated, animeCharacters, animeVoices, animeStaff, url]\n",
              "Index: []"
            ]
          },
          "metadata": {},
          "execution_count": 25
        }
      ]
    },
    {
      "cell_type": "code",
      "metadata": {
        "colab": {
          "base_uri": "https://localhost:8080/",
          "height": 69
        },
        "id": "fpNKicM_P1aj",
        "outputId": "d1f6f7c6-99e7-43f9-937e-c3b70912f616"
      },
      "source": [
        "#check if there are negative animeRank\n",
        "df[df.animeRank<= 0]"
      ],
      "execution_count": 26,
      "outputs": [
        {
          "output_type": "execute_result",
          "data": {
            "text/html": [
              "<div>\n",
              "<style scoped>\n",
              "    .dataframe tbody tr th:only-of-type {\n",
              "        vertical-align: middle;\n",
              "    }\n",
              "\n",
              "    .dataframe tbody tr th {\n",
              "        vertical-align: top;\n",
              "    }\n",
              "\n",
              "    .dataframe thead th {\n",
              "        text-align: right;\n",
              "    }\n",
              "</style>\n",
              "<table border=\"1\" class=\"dataframe\">\n",
              "  <thead>\n",
              "    <tr style=\"text-align: right;\">\n",
              "      <th></th>\n",
              "      <th>animeTitle</th>\n",
              "      <th>animeType</th>\n",
              "      <th>animeNumEpisode</th>\n",
              "      <th>releaseDate</th>\n",
              "      <th>endDate</th>\n",
              "      <th>animeNumMembers</th>\n",
              "      <th>animeScore</th>\n",
              "      <th>animeUsers</th>\n",
              "      <th>animeRank</th>\n",
              "      <th>animePopularity</th>\n",
              "      <th>animeDescription</th>\n",
              "      <th>animeRelated</th>\n",
              "      <th>animeCharacters</th>\n",
              "      <th>animeVoices</th>\n",
              "      <th>animeStaff</th>\n",
              "      <th>url</th>\n",
              "    </tr>\n",
              "  </thead>\n",
              "  <tbody>\n",
              "  </tbody>\n",
              "</table>\n",
              "</div>"
            ],
            "text/plain": [
              "Empty DataFrame\n",
              "Columns: [animeTitle, animeType, animeNumEpisode, releaseDate, endDate, animeNumMembers, animeScore, animeUsers, animeRank, animePopularity, animeDescription, animeRelated, animeCharacters, animeVoices, animeStaff, url]\n",
              "Index: []"
            ]
          },
          "metadata": {},
          "execution_count": 26
        }
      ]
    },
    {
      "cell_type": "code",
      "metadata": {
        "id": "MEQyrCI6P-30"
      },
      "source": [
        "#we replace -1 in place of null, because we believe that the number of rows is large to eliminate \n",
        "df.fillna(value=-1, inplace=True)"
      ],
      "execution_count": 27,
      "outputs": []
    },
    {
      "cell_type": "code",
      "metadata": {
        "colab": {
          "base_uri": "https://localhost:8080/"
        },
        "id": "2B3eqyXSQJ4p",
        "outputId": "a62025d1-3125-4c03-e572-0c677ef254a4"
      },
      "source": [
        "# as we can see, we fix all column\n",
        "df.isnull().sum()"
      ],
      "execution_count": 28,
      "outputs": [
        {
          "output_type": "execute_result",
          "data": {
            "text/plain": [
              "animeTitle          0\n",
              "animeType           0\n",
              "animeNumEpisode     0\n",
              "releaseDate         0\n",
              "endDate             0\n",
              "animeNumMembers     0\n",
              "animeScore          0\n",
              "animeUsers          0\n",
              "animeRank           0\n",
              "animePopularity     0\n",
              "animeDescription    0\n",
              "animeRelated        0\n",
              "animeCharacters     0\n",
              "animeVoices         0\n",
              "animeStaff          0\n",
              "url                 0\n",
              "dtype: int64"
            ]
          },
          "metadata": {},
          "execution_count": 28
        }
      ]
    },
    {
      "cell_type": "code",
      "metadata": {
        "id": "cUXGw3xjQgk7"
      },
      "source": [
        "# reset index\n",
        "df.reset_index(drop=True, inplace=True)"
      ],
      "execution_count": 29,
      "outputs": []
    },
    {
      "cell_type": "code",
      "metadata": {
        "colab": {
          "base_uri": "https://localhost:8080/"
        },
        "id": "ghpTxJPEQUYJ",
        "outputId": "a6bc7e02-e14f-4f2f-b03e-558e5e3d8827"
      },
      "source": [
        "df.info()"
      ],
      "execution_count": 30,
      "outputs": [
        {
          "output_type": "stream",
          "name": "stdout",
          "text": [
            "<class 'pandas.core.frame.DataFrame'>\n",
            "RangeIndex: 17112 entries, 0 to 17111\n",
            "Data columns (total 16 columns):\n",
            " #   Column            Non-Null Count  Dtype         \n",
            "---  ------            --------------  -----         \n",
            " 0   animeTitle        17112 non-null  object        \n",
            " 1   animeType         17112 non-null  object        \n",
            " 2   animeNumEpisode   17112 non-null  int64         \n",
            " 3   releaseDate       17112 non-null  datetime64[ns]\n",
            " 4   endDate           17112 non-null  datetime64[ns]\n",
            " 5   animeNumMembers   17112 non-null  float64       \n",
            " 6   animeScore        17112 non-null  float64       \n",
            " 7   animeUsers        17112 non-null  float64       \n",
            " 8   animeRank         17112 non-null  float64       \n",
            " 9   animePopularity   17112 non-null  float64       \n",
            " 10  animeDescription  17112 non-null  object        \n",
            " 11  animeRelated      17112 non-null  object        \n",
            " 12  animeCharacters   17112 non-null  object        \n",
            " 13  animeVoices       17112 non-null  object        \n",
            " 14  animeStaff        17112 non-null  object        \n",
            " 15  url               17112 non-null  object        \n",
            "dtypes: datetime64[ns](2), float64(5), int64(1), object(8)\n",
            "memory usage: 2.1+ MB\n"
          ]
        }
      ]
    },
    {
      "cell_type": "markdown",
      "metadata": {
        "id": "OXOh7m6TU4Hl"
      },
      "source": [
        "# Delete Stopwords & Stem & punctuation"
      ]
    },
    {
      "cell_type": "code",
      "metadata": {
        "id": "qYJxZmcukbDH"
      },
      "source": [
        "# function to delete stopwords, punctuation adn stem\n",
        "def filter_sentence(description):\n",
        "  stop_words = set(stopwords.words('english')) # set of stopwords\n",
        "  nl = WordNetLemmatizer()\n",
        "  description = description.translate(str.maketrans('', '', string.punctuation)) # delete punctuation\n",
        "  word_tokens = word_tokenize(description) # return list of word, very similar to split\n",
        "  filtered_sentence = [nl.lemmatize(w).lower() for w in word_tokens if not w.lower() in stop_words] # delete stopwords\n",
        "  filtered_description = \" \".join(filtered_sentence)\n",
        "  return filtered_description"
      ],
      "execution_count": 31,
      "outputs": []
    },
    {
      "cell_type": "code",
      "metadata": {
        "id": "NtZYoMugkfUw"
      },
      "source": [
        "df[\"animeDescription\"] = df[\"animeDescription\"].apply(filter_sentence) #apply the function "
      ],
      "execution_count": 32,
      "outputs": []
    },
    {
      "cell_type": "code",
      "metadata": {
        "colab": {
          "base_uri": "https://localhost:8080/"
        },
        "id": "d40iRNbXU1lG",
        "outputId": "18578f67-f9aa-4922-b560-2752c4ca3c35"
      },
      "source": [
        "df['animeDescription'].head()"
      ],
      "execution_count": 33,
      "outputs": [
        {
          "output_type": "execute_result",
          "data": {
            "text/plain": [
              "0    filiels 15th birthday received mother necklace...\n",
              "1    natsuza yuzuki playing rugby leftwinger ever s...\n",
              "2    carefree tsunami next line rule magical kingdo...\n",
              "3    synopsis information added title help improve ...\n",
              "4    john cheerful energetic young boy life small c...\n",
              "Name: animeDescription, dtype: object"
            ]
          },
          "metadata": {},
          "execution_count": 33
        }
      ]
    },
    {
      "cell_type": "markdown",
      "metadata": {
        "id": "eoG0z5uTbSgM"
      },
      "source": [
        "# REQ 2.1"
      ]
    },
    {
      "cell_type": "code",
      "metadata": {
        "id": "AUpUmiEaelLm"
      },
      "source": [
        "## return all words contians in the specified column \n",
        "def retrieve_word_column(column):\n",
        "    huge_list = []\n",
        "    for i in range(len(df)):\n",
        "        huge_list.extend(word_tokenize(df[column][i]))\n",
        "    all_words = set(huge_list)\n",
        "    return all_words"
      ],
      "execution_count": 70,
      "outputs": []
    },
    {
      "cell_type": "code",
      "metadata": {
        "id": "8gFWwaKVihcK"
      },
      "source": [
        "# create 2 dictionary: the first one contains word to index, and the second one \n",
        "def retrieve_word_index(all_words):\n",
        "  word_to_idx = dict()\n",
        "  idx_to_word = dict()\n",
        "  for idx, value in enumerate(all_words):\n",
        "    word_to_idx[value] = idx\n",
        "    idx_to_word[idx] = value\n",
        "  return word_to_idx, idx_to_word"
      ],
      "execution_count": 71,
      "outputs": []
    },
    {
      "cell_type": "code",
      "metadata": {
        "id": "uKPcFPpnomYE"
      },
      "source": [
        "# function to add index in dictionary\n",
        "# if word(index) not in dictionary added it with the corresponded document, else add document in word\n",
        "def index_to_doc(index,dict_index,document):\n",
        "  if index not in dict_index:\n",
        "    dict_index[index] = [document]\n",
        "  else:\n",
        "    dict_index[index].append(document)\n",
        "  return dict_index"
      ],
      "execution_count": 72,
      "outputs": []
    },
    {
      "cell_type": "code",
      "metadata": {
        "id": "7OqP2n_BjEbF"
      },
      "source": [
        "# create dictionary which contain word to all documents which contain this word\n",
        "def invert_index(column, word_to_idx):\n",
        "    idx_to_documents = dict()\n",
        "    for i,document in enumerate(df[column]):\n",
        "      word_tokens = word_tokenize(document)\n",
        "      word_tokens = set(word_tokens)\n",
        "      for word in word_tokens:\n",
        "        index = word_to_idx[word]\n",
        "        idx_to_documents = index_to_doc(index,idx_to_documents,i)\n",
        "    return idx_to_documents"
      ],
      "execution_count": 73,
      "outputs": []
    },
    {
      "cell_type": "code",
      "metadata": {
        "id": "IYZEMoS-u2Yp"
      },
      "source": [
        "# return the documents that contians the query \n",
        "def match_query(df, query, column, word_to_idx, idx_to_documents):\n",
        "  documents = []\n",
        "  for word in query.split():\n",
        "    if word in word_to_idx:\n",
        "      documents.append(idx_to_documents[word_to_idx[word.strip().lower()]])\n",
        "    else:\n",
        "      return set() # if word not present in dictionary that contians all words, exit beacause the query given in input must match all words \n",
        "  document = set.intersection(*map(set, documents))\n",
        "  return df[[\"animeTitle\",\"animeDescription\",\"url\"]].loc[list(document)]"
      ],
      "execution_count": 74,
      "outputs": []
    },
    {
      "cell_type": "code",
      "metadata": {
        "colab": {
          "base_uri": "https://localhost:8080/",
          "height": 143
        },
        "id": "jyICU4rPwI40",
        "outputId": "8206bf83-3f21-49cd-c0df-e73f9b90cfbf"
      },
      "source": [
        "column = \"animeDescription\"\n",
        "all_words = retrieve_word_column(column)\n",
        "word_to_idx,idx_to_word =  retrieve_word_index(all_words)\n",
        "idx_to_documents = invert_index(column, word_to_idx)\n",
        "match_query(df,\"saiyan race\",\"animeDescription\",word_to_idx, idx_to_documents).head()"
      ],
      "execution_count": 75,
      "outputs": [
        {
          "output_type": "execute_result",
          "data": {
            "text/html": [
              "<div>\n",
              "<style scoped>\n",
              "    .dataframe tbody tr th:only-of-type {\n",
              "        vertical-align: middle;\n",
              "    }\n",
              "\n",
              "    .dataframe tbody tr th {\n",
              "        vertical-align: top;\n",
              "    }\n",
              "\n",
              "    .dataframe thead th {\n",
              "        text-align: right;\n",
              "    }\n",
              "</style>\n",
              "<table border=\"1\" class=\"dataframe\">\n",
              "  <thead>\n",
              "    <tr style=\"text-align: right;\">\n",
              "      <th></th>\n",
              "      <th>animeTitle</th>\n",
              "      <th>animeDescription</th>\n",
              "      <th>url</th>\n",
              "    </tr>\n",
              "  </thead>\n",
              "  <tbody>\n",
              "    <tr>\n",
              "      <th>5825</th>\n",
              "      <td>Dragon Ball Super: Broly</td>\n",
              "      <td>fortyone year ago planet vegeta home infamous ...</td>\n",
              "      <td>https://myanimelist.net/anime/36946/Dragon_Bal...</td>\n",
              "    </tr>\n",
              "    <tr>\n",
              "      <th>16036</th>\n",
              "      <td>Dragon Ball Z Special 1: Tatta Hitori no Saish...</td>\n",
              "      <td>bardock son gokus father lowranking saiyan sol...</td>\n",
              "      <td>https://myanimelist.net/anime/986/Dragon_Ball_...</td>\n",
              "    </tr>\n",
              "    <tr>\n",
              "      <th>16141</th>\n",
              "      <td>Dragon Ball Z</td>\n",
              "      <td>five year winning world martial arts tournamen...</td>\n",
              "      <td>https://myanimelist.net/anime/813/Dragon_Ball_Z</td>\n",
              "    </tr>\n",
              "  </tbody>\n",
              "</table>\n",
              "</div>"
            ],
            "text/plain": [
              "                                              animeTitle  ...                                                url\n",
              "5825                            Dragon Ball Super: Broly  ...  https://myanimelist.net/anime/36946/Dragon_Bal...\n",
              "16036  Dragon Ball Z Special 1: Tatta Hitori no Saish...  ...  https://myanimelist.net/anime/986/Dragon_Ball_...\n",
              "16141                                      Dragon Ball Z  ...    https://myanimelist.net/anime/813/Dragon_Ball_Z\n",
              "\n",
              "[3 rows x 3 columns]"
            ]
          },
          "metadata": {},
          "execution_count": 75
        }
      ]
    },
    {
      "cell_type": "code",
      "metadata": {
        "id": "0kvQsFcguWMj"
      },
      "source": [
        "# create 3 file Json which contain information\n",
        "with open('word_to_idx.json', 'w') as fp:\n",
        "    json.dump(word_to_idx, fp)\n",
        "\n",
        "with open('idx_to_documents.json', 'w') as fp:\n",
        "    json.dump(idx_to_documents, fp)\n",
        "\n",
        "with open('idx_to_word.json', 'w') as fp:\n",
        "    json.dump(idx_to_word, fp)   "
      ],
      "execution_count": 76,
      "outputs": []
    },
    {
      "cell_type": "markdown",
      "metadata": {
        "id": "QhMZ89qUS1sj"
      },
      "source": [
        "# REQ 2.2"
      ]
    },
    {
      "cell_type": "code",
      "metadata": {
        "id": "OJChysxuU8lg"
      },
      "source": [
        "#returns the updated dictionary with the value given in input \n",
        "def index_to_doc_tfIdf(index ,dict_index, document, score):\n",
        "  if index not in dict_index:\n",
        "    dict_index[index] = [(document,score)]\n",
        "  else:\n",
        "    dict_index[index].append((document,score))\n",
        "  return dict_index"
      ],
      "execution_count": 77,
      "outputs": []
    },
    {
      "cell_type": "code",
      "metadata": {
        "id": "fZ_2fnCYp_W5"
      },
      "source": [
        "#returns the updated dictionary with the value given in input \n",
        "def doc_to_index_tfIdf(dict_tfIdf, document, score):\n",
        "  if document not in dict_tfIdf:\n",
        "    dict_tfIdf[document] = [score]\n",
        "  else:\n",
        "    dict_tfIdf[document].append(score)\n",
        "  return dict_tfIdf"
      ],
      "execution_count": 78,
      "outputs": []
    },
    {
      "cell_type": "code",
      "metadata": {
        "id": "7Yt3JMdm1r-N"
      },
      "source": [
        "def get_number_occurrences(tokens):\n",
        "    result = dict()\n",
        "    for word in tokens:\n",
        "      result[word] = result.get(word, 0) + 1 # if not in dictionary set 0, +1 otherwise\n",
        "    return result"
      ],
      "execution_count": 79,
      "outputs": []
    },
    {
      "cell_type": "code",
      "metadata": {
        "id": "ffx5p23izOM_"
      },
      "source": [
        "# function to calculate TF_IDF\n",
        "def retrieve_TF_IDF_document(doc, word_to_idx, idx_to_documents):\n",
        "  idx_doc_tfIdf = dict()\n",
        "  idf_dict = dict()\n",
        "  doc_tfIdf = dict()\n",
        "  N = df.shape[0]\n",
        "\n",
        "  for i, description in enumerate(doc):\n",
        "    word_tokens = word_tokenize(description) # list of word\n",
        "    num_occurences = get_number_occurrences(word_tokens) #dictionary that contains the number of occurancy for each word\n",
        "\n",
        "    for word in num_occurences:\n",
        "      index = word_to_idx[word.strip().lower()]\n",
        "      word_occurance = len(idx_to_documents[index])\n",
        "\n",
        "      # this block is useful to create a dictionary that contains for each word, the correspond idf\n",
        "      if word in idf_dict:\n",
        "        idf = idf_dict[word]\n",
        "      else:\n",
        "        idf = math.log(N / word_occurance) + 1\n",
        "        idf_dict[word] = idf\n",
        "      \n",
        "      # calculate the tf\n",
        "      tf = num_occurences[word] / len(word_tokens)\n",
        "      score = tf * idf\n",
        "\n",
        "      idx_doc_tfIdf = index_to_doc_tfIdf(index, idx_doc_tfIdf, i, score)\n",
        "      doc_tfIdf = doc_to_index_tfIdf(doc_tfIdf,i,score)\n",
        "  return idx_doc_tfIdf, idf_dict, doc_tfIdf"
      ],
      "execution_count": 80,
      "outputs": []
    },
    {
      "cell_type": "code",
      "metadata": {
        "id": "hxLV5J_A0aBb"
      },
      "source": [
        "idx_doc_tfIdf, idf_dict, doc_index_tf_idf = retrieve_TF_IDF_document(df['animeDescription'], word_to_idx, idx_to_documents)"
      ],
      "execution_count": 81,
      "outputs": []
    },
    {
      "cell_type": "markdown",
      "metadata": {
        "id": "WYr8NI4rmaTk"
      },
      "source": [
        "1. Calculate TFIDF of Query.\n",
        "2. Retrieve the intersected documents.\n",
        "3. Loop through each document and calculate the following.\n",
        "\n",
        "![image.png](data:image/png;base64,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)"
      ]
    },
    {
      "cell_type": "code",
      "metadata": {
        "id": "rsV2ix4kGTsu"
      },
      "source": [
        "# calculate the cosine similarity and return two valued, the first one a sorted list that contains the index of top document\n",
        "# the second one the correspond dictionary, where the keys are the documents and the attribute the correspond similarity\n",
        "import numpy as np\n",
        "def cosine_similarity(query, column, df, word_to_idx, idx_to_documents, idx_doc_tfIdf, idf_dict, doc_index_tf_idf):\n",
        "  query_terms = word_tokenize(query)\n",
        "  results = dict()\n",
        "  q = []\n",
        "  match = match_query(df, query, column, word_to_idx, idx_to_documents)\n",
        "\n",
        "  if len(match) == 0: return dict(),[]\n",
        "  for query_term in query_terms:\n",
        "    index = word_to_idx[query_term]\n",
        "    postings_list = idx_doc_tfIdf[index]\n",
        "    query_term_tfidf = compute_tfidf_query(query, query_term, idf_dict)\n",
        "    q.append(query_term_tfidf)\n",
        "    for doc in list(match.index):\n",
        "      for doc_tf_idf, tfidf in postings_list:\n",
        "        if doc == doc_tf_idf:\n",
        "          results[doc] = results.get(doc, 0) + query_term_tfidf * tfidf\n",
        "  for doc in results:\n",
        "    results[doc] = results[doc] / (np.linalg.norm(doc_index_tf_idf[doc]) * np.linalg.norm(q))\n",
        "  return results, list(sorted(results.keys(), key=lambda x: results[x], reverse=True))"
      ],
      "execution_count": 82,
      "outputs": []
    },
    {
      "cell_type": "code",
      "metadata": {
        "id": "j8f-FrtRSUaA"
      },
      "source": [
        "# compute the tfidf for the query\n",
        "def compute_tfidf_query(query, term, idf_dict):\n",
        "  query_terms = word_tokenize(query)\n",
        "  words_occ = get_number_occurrences(query_terms)\n",
        "  tf = words_occ[term] / len(query_terms)\n",
        "  if term not in idf_dict:\n",
        "    idf = 0\n",
        "  else:\n",
        "    idf = idf_dict[term]\n",
        "  return tf * idf"
      ],
      "execution_count": 83,
      "outputs": []
    },
    {
      "cell_type": "code",
      "metadata": {
        "id": "BkbEyIvkIH0-"
      },
      "source": [
        "query = 'saiyan race'\n",
        "result_query = cosine_similarity(query,\"animeDescription\",df, word_to_idx, idx_to_documents, idx_doc_tfIdf, idf_dict, doc_index_tf_idf)\n",
        "cosine_result = pd.concat([df.loc[result_query[1]],pd.Series(sorted(result_query[0].values(),reverse=True), index=result_query[1]).rename('Similarity')], axis=1)"
      ],
      "execution_count": 84,
      "outputs": []
    },
    {
      "cell_type": "code",
      "metadata": {
        "colab": {
          "base_uri": "https://localhost:8080/",
          "height": 143
        },
        "id": "J0s0E7vdh0Je",
        "outputId": "8be11557-0a47-466c-8c1a-8a2e35c6cf2a"
      },
      "source": [
        "cosine_result[['animeTitle','animeDescription','url','Similarity']]"
      ],
      "execution_count": 85,
      "outputs": [
        {
          "output_type": "execute_result",
          "data": {
            "text/html": [
              "<div>\n",
              "<style scoped>\n",
              "    .dataframe tbody tr th:only-of-type {\n",
              "        vertical-align: middle;\n",
              "    }\n",
              "\n",
              "    .dataframe tbody tr th {\n",
              "        vertical-align: top;\n",
              "    }\n",
              "\n",
              "    .dataframe thead th {\n",
              "        text-align: right;\n",
              "    }\n",
              "</style>\n",
              "<table border=\"1\" class=\"dataframe\">\n",
              "  <thead>\n",
              "    <tr style=\"text-align: right;\">\n",
              "      <th></th>\n",
              "      <th>animeTitle</th>\n",
              "      <th>animeDescription</th>\n",
              "      <th>url</th>\n",
              "      <th>Similarity</th>\n",
              "    </tr>\n",
              "  </thead>\n",
              "  <tbody>\n",
              "    <tr>\n",
              "      <th>16036</th>\n",
              "      <td>Dragon Ball Z Special 1: Tatta Hitori no Saish...</td>\n",
              "      <td>bardock son gokus father lowranking saiyan sol...</td>\n",
              "      <td>https://myanimelist.net/anime/986/Dragon_Ball_...</td>\n",
              "      <td>0.300722</td>\n",
              "    </tr>\n",
              "    <tr>\n",
              "      <th>5825</th>\n",
              "      <td>Dragon Ball Super: Broly</td>\n",
              "      <td>fortyone year ago planet vegeta home infamous ...</td>\n",
              "      <td>https://myanimelist.net/anime/36946/Dragon_Bal...</td>\n",
              "      <td>0.185366</td>\n",
              "    </tr>\n",
              "    <tr>\n",
              "      <th>16141</th>\n",
              "      <td>Dragon Ball Z</td>\n",
              "      <td>five year winning world martial arts tournamen...</td>\n",
              "      <td>https://myanimelist.net/anime/813/Dragon_Ball_Z</td>\n",
              "      <td>0.134706</td>\n",
              "    </tr>\n",
              "  </tbody>\n",
              "</table>\n",
              "</div>"
            ],
            "text/plain": [
              "                                              animeTitle  ... Similarity\n",
              "16036  Dragon Ball Z Special 1: Tatta Hitori no Saish...  ...   0.300722\n",
              "5825                            Dragon Ball Super: Broly  ...   0.185366\n",
              "16141                                      Dragon Ball Z  ...   0.134706\n",
              "\n",
              "[3 rows x 4 columns]"
            ]
          },
          "metadata": {},
          "execution_count": 85
        }
      ]
    },
    {
      "cell_type": "markdown",
      "metadata": {
        "id": "kLbKtSplhSQ8"
      },
      "source": [
        "#REQ 3"
      ]
    },
    {
      "cell_type": "code",
      "metadata": {
        "id": "p0M8rqI8zETq"
      },
      "source": [
        "df['animeTitleLower'] =  df[\"animeTitle\"].apply(filter_sentence)"
      ],
      "execution_count": 86,
      "outputs": []
    },
    {
      "cell_type": "code",
      "metadata": {
        "id": "sk47YlNWHqnz"
      },
      "source": [
        "# calculate the cosine similarity\n",
        "def retrieve_cosine_similarity(query, column_name, df):\n",
        "  query = filter_sentence(query)\n",
        "  all_words = retrieve_word_column(column_name)\n",
        "  word_to_idx, idx_to_word =  retrieve_word_index(all_words)\n",
        "  idx_to_documents = invert_index(column_name, word_to_idx)\n",
        "  idx_doc_tfIdf, idf_dict, doc_index_tf_idf = retrieve_TF_IDF_document(df[column_name], word_to_idx, idx_to_documents)\n",
        "  result = cosine_similarity(query, column_name, df, word_to_idx, idx_to_documents, idx_doc_tfIdf, idf_dict, doc_index_tf_idf)\n",
        "  return result"
      ],
      "execution_count": 87,
      "outputs": []
    },
    {
      "cell_type": "code",
      "metadata": {
        "id": "s81UcXm3SmB3"
      },
      "source": [
        "list_columns = ['animeTitle', 'animeType', 'animeNumEpisode', 'releaseDate', 'endDate', 'animeNumMembers', 'animeScore', 'animeUsers', 'animeRank', 'animePopularity', 'animeDescription', \\\n",
        "                'animeRelated', 'animeCharacters', 'animeVoices', 'animeStaff', 'url','animeTitleLower']"
      ],
      "execution_count": 88,
      "outputs": []
    },
    {
      "cell_type": "code",
      "metadata": {
        "id": "Znc1jux9hUfb"
      },
      "source": [
        "def find_match_req3(query, list_column, df):\n",
        "  list_column.extend([\"descriptionSimilarity\",\"titleSimilarity\"])\n",
        "  column_normalize_bool = {\"descriptionSimilarity\":False, \"titleSimilarity\": False, \"animeScore\": False, \"animeRank\":True, \"animePopularity\": True, \"animeNumMembers\":False}\n",
        "  column_weight = {\"descriptionSimilarity\": 0.1, \"titleSimilarity\": 0.4, \"animeScore\":0.2 ,\"animeRank\":0.2, \"animePopularity\": 0.05, \"animeNumMembers\":0.05}\n",
        "  calculate_weight = recalculate_weight(column_weight, list_column)\n",
        "\n",
        "  # cosine similarity for title\n",
        "  result_query_title = retrieve_cosine_similarity(query, \"animeTitleLower\", df) \n",
        "\n",
        "  # cosine similarity for description\n",
        "  result_query_description = retrieve_cosine_similarity(query, \"animeDescription\", df) \n",
        "  \n",
        "  #we take the corresponding lines from the data frame\n",
        "  cosine_result_1 = pd.concat([df.loc[result_query_title[1]],pd.Series(sorted(result_query_title[0].values(),reverse=True),\\\n",
        "                                                               index=result_query_title[1], dtype=\"float32\").rename('titleSimilarity')], axis=1)\n",
        "  \n",
        "  #we take the corresponding lines from the data frame\n",
        "  cosine_result_2 = pd.concat([df.loc[result_query_description[1]],pd.Series(sorted(result_query_description[0].values(),reverse=True),\\\n",
        "                                                               index=result_query_description[1], dtype=\"float32\").rename('descriptionSimilarity')], axis=1)\n",
        "  \n",
        "  # join the two dataframe (list_columns is present in the previous cell)\n",
        "  cosine_result = pd.merge(cosine_result_1, cosine_result_2,  how='outer', on=list_columns)\n",
        "\n",
        "  # fill the null value with zero\n",
        "  cosine_result = cosine_result.fillna(0)\n",
        "\n",
        "  #when we go to match, it is likely that one of the two is not present, so we will not create the table with zero as default value \n",
        "  if \"titleSimilarity\" not in cosine_result.columns: cosine_result[\"titleSimilarity\"] = 0\n",
        "  if \"descriptionSimilarity\" not in cosine_result.columns: cosine_result[\"descriptionSimilarity\"] = 0\n",
        "\n",
        "  # column which contains the new similarity\n",
        "  cosine_result['newSimilarity'] = 0\n",
        "  for column in list_column:\n",
        "    small_important = column_normalize_bool[column] #True or False\n",
        "    value = normalize_column(cosine_result,column, calculate_weight[column],small_important) # calculate the weight of the column \n",
        "    cosine_result['newSimilarity'] += value #added value in the newSimilarity\n",
        "  \n",
        "  return  cosine_result.sort_values(by='newSimilarity',ascending=False)\n",
        "  "
      ],
      "execution_count": 89,
      "outputs": []
    },
    {
      "cell_type": "code",
      "metadata": {
        "id": "x0NgcQDcF3rt"
      },
      "source": [
        "#recalculate the weight based on the user's choice \n",
        "def recalculate_weight(diz_orig_weight, list_columns):\n",
        "  print(diz_orig_weight, '\\n',list_columns)\n",
        "  sum = 0\n",
        "  diz_new_weight = dict()\n",
        "  for column in list_columns:\n",
        "    sum += diz_orig_weight[column]\n",
        "  for column in list_columns:\n",
        "    diz_new_weight[column] = diz_orig_weight[column] / sum\n",
        "  return diz_new_weight"
      ],
      "execution_count": 90,
      "outputs": []
    },
    {
      "cell_type": "code",
      "metadata": {
        "id": "Ax7sWxyB0RE3"
      },
      "source": [
        "# function useful to normalize the value\n",
        "#small_important is a boolean, True it means that the smaller the value, the more important that value is, so we have to do `1 - value` to normalize \n",
        "def normalize_column(cosine_result,column_name, weight,small_important):\n",
        "  max = cosine_result[column_name].max()\n",
        "  if max == 0: return 0\n",
        "  if small_important: return (1 - cosine_result[column_name] / max) * weight\n",
        "  return (cosine_result[column_name] / max) * weight"
      ],
      "execution_count": 91,
      "outputs": []
    },
    {
      "cell_type": "markdown",
      "metadata": {
        "id": "t5d2d3rrnyCN"
      },
      "source": [
        "To calculate the similarity, we didn't use just the description, but we add some different factors, each one with is own Weight. we use the 'titleSimilarity', 'the animeScore', 'the animeRank', 'the animePopularity' and 'the animeNumMembers'.\n",
        "\n",
        "We believe that the 'titleSimilarity' is the most important factor, so it has the biggest weight.\n",
        "\n",
        "The users choose the columns to use to calculate the similarity, the only two that is mandatory to choose are 'titleSimilarity' and 'descriptionSimilarity', the other four factors can enter or not in the calculate of the newSimilarity.\n",
        "When the users doesn't choose all the columns, the weights are automatically updated with a proportion:\n",
        "\n",
        "For example $0.3:0.7=x:1$ \n",
        "\n",
        "Where 0.3 is the weight of that column that we wanna update the weight and 0.7 is the sum of the weights of the columns chosen.\n",
        "\n",
        "when we have all weights, we are going to calculate the new similarity, using this formula:\n",
        "value / maxValueColumn * weight\n",
        "\n",
        "where value is the cosine similarity for `animeTitle` or `animeDescription` and the other column are the respect value of the anime in that column.\n",
        "\n",
        "The newSimilarity is the sum of the result optained in the previous step.\n",
        "\n",
        "#Test 01\n",
        "\n",
        "we do a test, with this value of weights:\n",
        "\n",
        "*   descriptionSimilarity $\\rightarrow$ 0.2\n",
        "*   titleSimilarity $\\rightarrow$ 0.3\n",
        "\n",
        "*   animeScore $\\rightarrow$ 0.15\n",
        "*   animeRank $\\rightarrow$ 0.15\n",
        "\n",
        "*   animePopularity $\\rightarrow$ 0.1\n",
        "*   animeNumMembers $\\rightarrow$ 0.1\n",
        "\n",
        "The updated weights:\n",
        "\n",
        "*   descriptionSimilarity $\\rightarrow$ 0.286\n",
        "*   titleSimilarity $\\rightarrow$ 0.429\n",
        "\n",
        "*   animePopularity $\\rightarrow$ 0.143\n",
        "*   animeNumMembers $\\rightarrow$ 0.143\n",
        "\n",
        "And now we obtain this similarity:\n",
        "\n",
        "Dragon Ball Z: 0.406099\n",
        "\n",
        "Dragon Ball Super Broly: 0.307207\n",
        "\n",
        "Dragon Ball z Special 1: 0.297830\n",
        "\n",
        "\n",
        "#Test 02\n",
        "Now we change the columns choosen  by the user and we consider 'animeScore' and 'animeRank' as columns choosen, we use the same original weights of the last test but with different updates:\n",
        "\n",
        "*   descriptionSimilarity $\\rightarrow$ 0.25\n",
        "*   titleSimilarity $\\rightarrow$ 0.375\n",
        "\n",
        "*   animeScore $\\rightarrow$ 0.187\n",
        "*   animeRank $\\rightarrow$ 0.187\n",
        "\n",
        "\n",
        "We obtain this value of similarity:\n",
        "\n",
        "Dragon Ball Super Broly: 0.477065\n",
        "\n",
        "Dragon Ball z: 0.440238\n",
        "\n",
        "Dragon Ball Z Special 1: 0.423696\n",
        "\n",
        "With this colummns chosen the similarity of all three animes grows consistently the anime with the highest similarity is again `Dragon Ball Z Special 1`.\n",
        "\n",
        "In both the test 01 and test 02 the NewSimilarity of all the anime are better than which one calculated in point two because, as you can see in the cell below, we can find in the first cell(the result of the cosine similarity of the request 2.2) which contains value with $-1$, moreover our algorithm is based on this column if the user specified the column.\n",
        "\n",
        "The cells below contains another test with different query\n"
      ]
    },
    {
      "cell_type": "code",
      "metadata": {
        "colab": {
          "base_uri": "https://localhost:8080/",
          "height": 571
        },
        "id": "Xnw52E5IoIHx",
        "outputId": "1d67adbe-488e-47e6-c1cf-56cdf308ea3b"
      },
      "source": [
        "query = 'goku'\n",
        "result_query_description = retrieve_cosine_similarity(query, \"animeDescription\", df)\n",
        "cosine_result = pd.concat([df.loc[result_query_description[1]],pd.Series(sorted(result_query_description[0].values(),reverse=True),\\\n",
        "                                                               index=result_query_description[1], dtype=\"float32\").rename('descriptionSimilarity')], axis=1)\n",
        "cosine_result.head()"
      ],
      "execution_count": 118,
      "outputs": [
        {
          "output_type": "execute_result",
          "data": {
            "text/html": [
              "<div>\n",
              "<style scoped>\n",
              "    .dataframe tbody tr th:only-of-type {\n",
              "        vertical-align: middle;\n",
              "    }\n",
              "\n",
              "    .dataframe tbody tr th {\n",
              "        vertical-align: top;\n",
              "    }\n",
              "\n",
              "    .dataframe thead th {\n",
              "        text-align: right;\n",
              "    }\n",
              "</style>\n",
              "<table border=\"1\" class=\"dataframe\">\n",
              "  <thead>\n",
              "    <tr style=\"text-align: right;\">\n",
              "      <th></th>\n",
              "      <th>animeTitle</th>\n",
              "      <th>animeType</th>\n",
              "      <th>animeNumEpisode</th>\n",
              "      <th>releaseDate</th>\n",
              "      <th>endDate</th>\n",
              "      <th>animeNumMembers</th>\n",
              "      <th>animeScore</th>\n",
              "      <th>animeUsers</th>\n",
              "      <th>animeRank</th>\n",
              "      <th>animePopularity</th>\n",
              "      <th>animeDescription</th>\n",
              "      <th>animeRelated</th>\n",
              "      <th>animeCharacters</th>\n",
              "      <th>animeVoices</th>\n",
              "      <th>animeStaff</th>\n",
              "      <th>url</th>\n",
              "      <th>animeTitleLower</th>\n",
              "      <th>descriptionSimilarity</th>\n",
              "    </tr>\n",
              "  </thead>\n",
              "  <tbody>\n",
              "    <tr>\n",
              "      <th>1915</th>\n",
              "      <td>Son O-gong gwa Byeoldeul-ui Jeonjaeng</td>\n",
              "      <td>TV</td>\n",
              "      <td>64</td>\n",
              "      <td>2009-04-05</td>\n",
              "      <td>2010-07-04</td>\n",
              "      <td>263.0</td>\n",
              "      <td>-1.00</td>\n",
              "      <td>-1.0</td>\n",
              "      <td>13448.0</td>\n",
              "      <td>15053.0</td>\n",
              "      <td>story galactic hero goku</td>\n",
              "      <td>['Fullmetal Alchemist', 'Fullmetal Alchemist: ...</td>\n",
              "      <td>['Elric, Edward', 'Elric, Alphonse', 'Mustang...</td>\n",
              "      <td>['Park, Romi', 'Kugimiya, Rie', 'Miki, Shinich...</td>\n",
              "      <td>[['Cook, Justin', 'Producer'], ['Yonai, Norito...</td>\n",
              "      <td>https://myanimelist.net/anime/16814/Son_O-gong...</td>\n",
              "      <td>son ogong gwa byeoldeului jeonjaeng</td>\n",
              "      <td>0.621845</td>\n",
              "    </tr>\n",
              "    <tr>\n",
              "      <th>4116</th>\n",
              "      <td>Dragon Ball Movie 4: Saikyou e no Michi</td>\n",
              "      <td>TV</td>\n",
              "      <td>64</td>\n",
              "      <td>2009-04-05</td>\n",
              "      <td>2010-07-04</td>\n",
              "      <td>51628.0</td>\n",
              "      <td>7.13</td>\n",
              "      <td>27582.0</td>\n",
              "      <td>3225.0</td>\n",
              "      <td>2465.0</td>\n",
              "      <td>retelling dragon balls origin different take m...</td>\n",
              "      <td>['Fullmetal Alchemist', 'Fullmetal Alchemist: ...</td>\n",
              "      <td>['Elric, Edward', 'Elric, Alphonse', 'Mustang...</td>\n",
              "      <td>['Park, Romi', 'Kugimiya, Rie', 'Miki, Shinich...</td>\n",
              "      <td>[['Cook, Justin', 'Producer'], ['Yonai, Norito...</td>\n",
              "      <td>https://myanimelist.net/anime/893/Dragon_Ball_...</td>\n",
              "      <td>dragon ball movie 4 saikyou e michi</td>\n",
              "      <td>0.604225</td>\n",
              "    </tr>\n",
              "    <tr>\n",
              "      <th>3252</th>\n",
              "      <td>Dragon Ball Z: Summer Vacation Special</td>\n",
              "      <td>TV</td>\n",
              "      <td>64</td>\n",
              "      <td>2009-04-05</td>\n",
              "      <td>2010-07-04</td>\n",
              "      <td>11351.0</td>\n",
              "      <td>6.59</td>\n",
              "      <td>4477.0</td>\n",
              "      <td>5666.0</td>\n",
              "      <td>5058.0</td>\n",
              "      <td>one peaceful afternoon son family friend spend...</td>\n",
              "      <td>['Fullmetal Alchemist', 'Fullmetal Alchemist: ...</td>\n",
              "      <td>['Elric, Edward', 'Elric, Alphonse', 'Mustang...</td>\n",
              "      <td>['Park, Romi', 'Kugimiya, Rie', 'Miki, Shinich...</td>\n",
              "      <td>[['Cook, Justin', 'Producer'], ['Yonai, Norito...</td>\n",
              "      <td>https://myanimelist.net/anime/22695/Dragon_Bal...</td>\n",
              "      <td>dragon ball z summer vacation special</td>\n",
              "      <td>0.503414</td>\n",
              "    </tr>\n",
              "    <tr>\n",
              "      <th>5030</th>\n",
              "      <td>Dragon Ball Z Movie 07: Kyokugen Battle!! Sand...</td>\n",
              "      <td>TV</td>\n",
              "      <td>64</td>\n",
              "      <td>2009-04-05</td>\n",
              "      <td>2010-07-04</td>\n",
              "      <td>103961.0</td>\n",
              "      <td>6.85</td>\n",
              "      <td>64806.0</td>\n",
              "      <td>4410.0</td>\n",
              "      <td>1572.0</td>\n",
              "      <td>dr geros androids 13 14 15 awakened laboratory...</td>\n",
              "      <td>['Fullmetal Alchemist', 'Fullmetal Alchemist: ...</td>\n",
              "      <td>['Elric, Edward', 'Elric, Alphonse', 'Mustang...</td>\n",
              "      <td>['Park, Romi', 'Kugimiya, Rie', 'Miki, Shinich...</td>\n",
              "      <td>[['Cook, Justin', 'Producer'], ['Yonai, Norito...</td>\n",
              "      <td>https://myanimelist.net/anime/900/Dragon_Ball_...</td>\n",
              "      <td>dragon ball z movie 07 kyokugen battle sandai ...</td>\n",
              "      <td>0.462226</td>\n",
              "    </tr>\n",
              "    <tr>\n",
              "      <th>7730</th>\n",
              "      <td>Dragon Ball Z Movie 07: Kyokugen Battle!! Sand...</td>\n",
              "      <td>TV</td>\n",
              "      <td>64</td>\n",
              "      <td>2009-04-05</td>\n",
              "      <td>2010-07-04</td>\n",
              "      <td>103961.0</td>\n",
              "      <td>6.85</td>\n",
              "      <td>64806.0</td>\n",
              "      <td>4409.0</td>\n",
              "      <td>1572.0</td>\n",
              "      <td>dr geros androids 13 14 15 awakened laboratory...</td>\n",
              "      <td>['Fullmetal Alchemist', 'Fullmetal Alchemist: ...</td>\n",
              "      <td>['Elric, Edward', 'Elric, Alphonse', 'Mustang...</td>\n",
              "      <td>['Park, Romi', 'Kugimiya, Rie', 'Miki, Shinich...</td>\n",
              "      <td>[['Cook, Justin', 'Producer'], ['Yonai, Norito...</td>\n",
              "      <td>https://myanimelist.net/anime/900/Dragon_Ball_...</td>\n",
              "      <td>dragon ball z movie 07 kyokugen battle sandai ...</td>\n",
              "      <td>0.462226</td>\n",
              "    </tr>\n",
              "  </tbody>\n",
              "</table>\n",
              "</div>"
            ],
            "text/plain": [
              "                                             animeTitle  ... descriptionSimilarity\n",
              "1915              Son O-gong gwa Byeoldeul-ui Jeonjaeng  ...              0.621845\n",
              "4116            Dragon Ball Movie 4: Saikyou e no Michi  ...              0.604225\n",
              "3252             Dragon Ball Z: Summer Vacation Special  ...              0.503414\n",
              "5030  Dragon Ball Z Movie 07: Kyokugen Battle!! Sand...  ...              0.462226\n",
              "7730  Dragon Ball Z Movie 07: Kyokugen Battle!! Sand...  ...              0.462226\n",
              "\n",
              "[5 rows x 18 columns]"
            ]
          },
          "metadata": {},
          "execution_count": 118
        }
      ]
    },
    {
      "cell_type": "code",
      "metadata": {
        "colab": {
          "base_uri": "https://localhost:8080/"
        },
        "id": "Ro4hwJ_SNChE",
        "outputId": "d52bed2a-a4fd-479c-acbe-19d309b34602"
      },
      "source": [
        "query = 'goku'\n",
        "find = find_match_req3(query, ['animeNumMembers','animePopularity'], df)"
      ],
      "execution_count": 116,
      "outputs": [
        {
          "output_type": "stream",
          "name": "stdout",
          "text": [
            "{'descriptionSimilarity': 0.1, 'titleSimilarity': 0.4, 'animeScore': 0.2, 'animeRank': 0.2, 'animePopularity': 0.05, 'animeNumMembers': 0.05} \n",
            " ['animeNumMembers', 'animePopularity', 'descriptionSimilarity', 'titleSimilarity']\n"
          ]
        }
      ]
    },
    {
      "cell_type": "code",
      "metadata": {
        "colab": {
          "base_uri": "https://localhost:8080/",
          "height": 571
        },
        "id": "b4TGuLM0O4DR",
        "outputId": "8e26d30b-e066-49cf-8e46-4ed02e24fb5c"
      },
      "source": [
        "find.head()"
      ],
      "execution_count": 117,
      "outputs": [
        {
          "output_type": "execute_result",
          "data": {
            "text/html": [
              "<div>\n",
              "<style scoped>\n",
              "    .dataframe tbody tr th:only-of-type {\n",
              "        vertical-align: middle;\n",
              "    }\n",
              "\n",
              "    .dataframe tbody tr th {\n",
              "        vertical-align: top;\n",
              "    }\n",
              "\n",
              "    .dataframe thead th {\n",
              "        text-align: right;\n",
              "    }\n",
              "</style>\n",
              "<table border=\"1\" class=\"dataframe\">\n",
              "  <thead>\n",
              "    <tr style=\"text-align: right;\">\n",
              "      <th></th>\n",
              "      <th>animeTitle</th>\n",
              "      <th>animeType</th>\n",
              "      <th>animeNumEpisode</th>\n",
              "      <th>releaseDate</th>\n",
              "      <th>endDate</th>\n",
              "      <th>animeNumMembers</th>\n",
              "      <th>animeScore</th>\n",
              "      <th>animeUsers</th>\n",
              "      <th>animeRank</th>\n",
              "      <th>animePopularity</th>\n",
              "      <th>animeDescription</th>\n",
              "      <th>animeRelated</th>\n",
              "      <th>animeCharacters</th>\n",
              "      <th>animeVoices</th>\n",
              "      <th>animeStaff</th>\n",
              "      <th>url</th>\n",
              "      <th>animeTitleLower</th>\n",
              "      <th>titleSimilarity</th>\n",
              "      <th>descriptionSimilarity</th>\n",
              "      <th>newSimilarity</th>\n",
              "    </tr>\n",
              "  </thead>\n",
              "  <tbody>\n",
              "    <tr>\n",
              "      <th>0</th>\n",
              "      <td>Goku Sayonara Zetsubou Sensei</td>\n",
              "      <td>TV</td>\n",
              "      <td>64</td>\n",
              "      <td>2009-04-05</td>\n",
              "      <td>2010-07-04</td>\n",
              "      <td>59619.0</td>\n",
              "      <td>7.84</td>\n",
              "      <td>28392.0</td>\n",
              "      <td>779.0</td>\n",
              "      <td>2265.0</td>\n",
              "      <td>sayonara zetsubou sensei ova</td>\n",
              "      <td>['Fullmetal Alchemist', 'Fullmetal Alchemist: ...</td>\n",
              "      <td>['Elric, Edward', 'Elric, Alphonse', 'Mustang...</td>\n",
              "      <td>['Park, Romi', 'Kugimiya, Rie', 'Miki, Shinich...</td>\n",
              "      <td>[['Cook, Justin', 'Producer'], ['Yonai, Norito...</td>\n",
              "      <td>https://myanimelist.net/anime/4872/Goku_Sayona...</td>\n",
              "      <td>goku sayonara zetsubou sensei</td>\n",
              "      <td>0.607027</td>\n",
              "      <td>0.000000</td>\n",
              "      <td>0.740859</td>\n",
              "    </tr>\n",
              "    <tr>\n",
              "      <th>1</th>\n",
              "      <td>Dragon Ball Kai: Mirai ni Heiwa wo! Goku no Ta...</td>\n",
              "      <td>TV</td>\n",
              "      <td>64</td>\n",
              "      <td>2009-04-05</td>\n",
              "      <td>2010-07-04</td>\n",
              "      <td>41082.0</td>\n",
              "      <td>7.52</td>\n",
              "      <td>23051.0</td>\n",
              "      <td>1558.0</td>\n",
              "      <td>2766.0</td>\n",
              "      <td>special episode trunks going back future fight...</td>\n",
              "      <td>['Fullmetal Alchemist', 'Fullmetal Alchemist: ...</td>\n",
              "      <td>['Elric, Edward', 'Elric, Alphonse', 'Mustang...</td>\n",
              "      <td>['Park, Romi', 'Kugimiya, Rie', 'Miki, Shinich...</td>\n",
              "      <td>[['Cook, Justin', 'Producer'], ['Yonai, Norito...</td>\n",
              "      <td>https://myanimelist.net/anime/11359/Dragon_Bal...</td>\n",
              "      <td>dragon ball kai mirai ni heiwa wo goku tamashi...</td>\n",
              "      <td>0.395872</td>\n",
              "      <td>0.000000</td>\n",
              "      <td>0.505128</td>\n",
              "    </tr>\n",
              "    <tr>\n",
              "      <th>3</th>\n",
              "      <td>Dragon Ball Movie 4: Saikyou e no Michi</td>\n",
              "      <td>TV</td>\n",
              "      <td>64</td>\n",
              "      <td>2009-04-05</td>\n",
              "      <td>2010-07-04</td>\n",
              "      <td>51628.0</td>\n",
              "      <td>7.13</td>\n",
              "      <td>27582.0</td>\n",
              "      <td>3225.0</td>\n",
              "      <td>2465.0</td>\n",
              "      <td>retelling dragon balls origin different take m...</td>\n",
              "      <td>['Fullmetal Alchemist', 'Fullmetal Alchemist: ...</td>\n",
              "      <td>['Elric, Edward', 'Elric, Alphonse', 'Mustang...</td>\n",
              "      <td>['Park, Romi', 'Kugimiya, Rie', 'Miki, Shinich...</td>\n",
              "      <td>[['Cook, Justin', 'Producer'], ['Yonai, Norito...</td>\n",
              "      <td>https://myanimelist.net/anime/893/Dragon_Ball_...</td>\n",
              "      <td>dragon ball movie 4 saikyou e michi</td>\n",
              "      <td>0.000000</td>\n",
              "      <td>0.604225</td>\n",
              "      <td>0.234574</td>\n",
              "    </tr>\n",
              "    <tr>\n",
              "      <th>6</th>\n",
              "      <td>Dragon Ball Z Movie 07: Kyokugen Battle!! Sand...</td>\n",
              "      <td>TV</td>\n",
              "      <td>64</td>\n",
              "      <td>2009-04-05</td>\n",
              "      <td>2010-07-04</td>\n",
              "      <td>103961.0</td>\n",
              "      <td>6.85</td>\n",
              "      <td>64806.0</td>\n",
              "      <td>4409.0</td>\n",
              "      <td>1572.0</td>\n",
              "      <td>dr geros androids 13 14 15 awakened laboratory...</td>\n",
              "      <td>['Fullmetal Alchemist', 'Fullmetal Alchemist: ...</td>\n",
              "      <td>['Elric, Edward', 'Elric, Alphonse', 'Mustang...</td>\n",
              "      <td>['Park, Romi', 'Kugimiya, Rie', 'Miki, Shinich...</td>\n",
              "      <td>[['Cook, Justin', 'Producer'], ['Yonai, Norito...</td>\n",
              "      <td>https://myanimelist.net/anime/900/Dragon_Ball_...</td>\n",
              "      <td>dragon ball z movie 07 kyokugen battle sandai ...</td>\n",
              "      <td>0.000000</td>\n",
              "      <td>0.462226</td>\n",
              "      <td>0.204442</td>\n",
              "    </tr>\n",
              "    <tr>\n",
              "      <th>5</th>\n",
              "      <td>Dragon Ball Z Movie 07: Kyokugen Battle!! Sand...</td>\n",
              "      <td>TV</td>\n",
              "      <td>64</td>\n",
              "      <td>2009-04-05</td>\n",
              "      <td>2010-07-04</td>\n",
              "      <td>103961.0</td>\n",
              "      <td>6.85</td>\n",
              "      <td>64806.0</td>\n",
              "      <td>4410.0</td>\n",
              "      <td>1572.0</td>\n",
              "      <td>dr geros androids 13 14 15 awakened laboratory...</td>\n",
              "      <td>['Fullmetal Alchemist', 'Fullmetal Alchemist: ...</td>\n",
              "      <td>['Elric, Edward', 'Elric, Alphonse', 'Mustang...</td>\n",
              "      <td>['Park, Romi', 'Kugimiya, Rie', 'Miki, Shinich...</td>\n",
              "      <td>[['Cook, Justin', 'Producer'], ['Yonai, Norito...</td>\n",
              "      <td>https://myanimelist.net/anime/900/Dragon_Ball_...</td>\n",
              "      <td>dragon ball z movie 07 kyokugen battle sandai ...</td>\n",
              "      <td>0.000000</td>\n",
              "      <td>0.462226</td>\n",
              "      <td>0.204442</td>\n",
              "    </tr>\n",
              "  </tbody>\n",
              "</table>\n",
              "</div>"
            ],
            "text/plain": [
              "                                          animeTitle  ... newSimilarity\n",
              "0                      Goku Sayonara Zetsubou Sensei  ...      0.740859\n",
              "1  Dragon Ball Kai: Mirai ni Heiwa wo! Goku no Ta...  ...      0.505128\n",
              "3            Dragon Ball Movie 4: Saikyou e no Michi  ...      0.234574\n",
              "6  Dragon Ball Z Movie 07: Kyokugen Battle!! Sand...  ...      0.204442\n",
              "5  Dragon Ball Z Movie 07: Kyokugen Battle!! Sand...  ...      0.204442\n",
              "\n",
              "[5 rows x 20 columns]"
            ]
          },
          "metadata": {},
          "execution_count": 117
        }
      ]
    },
    {
      "cell_type": "markdown",
      "metadata": {
        "id": "fmapemjqwScX"
      },
      "source": [
        "#REQ 5 THEORY"
      ]
    },
    {
      "cell_type": "markdown",
      "metadata": {
        "id": "e0XcLZISxJ2O"
      },
      "source": [
        "\n",
        "$L$ is the list of appointments given in input, where each element correspond to the number of minutes of the appointment.\n",
        "\n",
        "$T$ is the new list, where in the last element we will find the sum of the maximum number of minutes that the personal trainer can do.\n",
        "\n",
        "$i$ represents the $i$-th appointment in the list.\n",
        "\n",
        "The idea is that when we fill the array with the sum of the appointments, the first one that we put in is given by the fact that it is the first that matches. Moreover, when we arrive at the second appointment, we choose the maximum between the first and the second appointment because we can't have two consecutive appointment. \n",
        "\n",
        "From the third we change methodology, because now we can take more than one appointment, so we will do: on $T[i]$ (in this case $i=3$) we will put the maximum between the previous($T[i-1]$) and the sum of $T[i] + T[i-2]$ (in this case we will put the maximum between the second appointment and the sum between the first and the third one). Continuing like this we will find in the last element the maximum number of minutes that a personal trainer could perform.\n",
        "\n",
        "\n",
        "Below the cell with the pseudocode, and then the cell with the function `find_max` that return the list $T$.\n",
        "\n",
        "Below we also show, how from the vector $T$, we can extrapolate the appointments that we have chosen, that is the optimal solution.\n",
        "\n",
        "\\begin{align}\n",
        "        \\text{T}(i) = \\left\\{\n",
        "        \\begin{array}{cl}\n",
        "        l[0]& i = 0 \\\\\n",
        "        max(l[i], l[i-1]) & i = 1 \\\\\n",
        "        max(l[i-1],l[i-2] + l[i]) & otherwise\n",
        "        \\end{array}\n",
        "        \\right.\n",
        "    \\end{align} "
      ]
    },
    {
      "cell_type": "code",
      "metadata": {
        "colab": {
          "base_uri": "https://localhost:8080/"
        },
        "id": "mOPQGVZgwV6g",
        "outputId": "42948812-ea4f-41b5-afcd-cd239952333d"
      },
      "source": [
        "lista=[30,40,25,50,30,20]\n",
        "def find_max(lista):\n",
        "    if len(lista) == 1: # i == 0\n",
        "        return lista[0]\n",
        "    elif len(lista) == 2: # i == 1\n",
        "        max(lista[1],lista[0])\n",
        "    result = [x for x in lista]\n",
        "    for i in range(2,len(lista)): # otherwise\n",
        "        result[i] = max(result[i-1],result[i-2] + result[i])\n",
        "    return result\n",
        "print(find_max(lista))"
      ],
      "execution_count": 96,
      "outputs": [
        {
          "output_type": "stream",
          "name": "stdout",
          "text": [
            "[30, 40, 55, 90, 90, 110]\n"
          ]
        }
      ]
    },
    {
      "cell_type": "markdown",
      "metadata": {
        "id": "rOpUkVCK6swQ"
      },
      "source": [
        "Now that we have the vector of the maximum sum of minutes for a personal trainer, we will go to extrapolate the appointments chosen. Here the variabile that we need:\n",
        "- $c$, last element from the list of the appointments, so the sum of all the optimal appointments;\n",
        "- $i$, the index that we use on the while to scroll backwards the list $T$, and it will be initialized as the index of the last element.\n",
        "\n",
        "We start doing a backwards scroll from the list of the appointments $T$ to understand what we chosen.\n",
        "The idea is based on the fact that if the last element is bigger than the penultimate, it means that the last appointment has been chosen, so we can add it to our list. Furthermore, we subtract from $c$ the number of minutes of the appointment chosen (we need this variable to understand if we choose the first element on the list of appointments or not) then we decrease of 2 positions our index $i$ because we know that the penultimate appointment wasn't chosen.\n",
        "Consequentially, we arrive at the third last appointment and we repeat the same process to the end of the list.\n",
        "If we are at the first element and $c > 0$, it means that we had chosen also the first element so we add it to the list of the appointments chosen."
      ]
    },
    {
      "cell_type": "code",
      "metadata": {
        "colab": {
          "base_uri": "https://localhost:8080/"
        },
        "id": "ozJyRRtl6LIE",
        "outputId": "a3fa8efb-c6b6-4fbb-97dc-f78dafaadc25"
      },
      "source": [
        "def print_choises(lista_orginal, list_sum_appointment):\n",
        "    result = []\n",
        "    i = len(lista_orginal) -1\n",
        "    c = list_sum_appointment[-1] # the sum of all appointment choises\n",
        "    while(c > 0 and i > -1):\n",
        "        if list_sum_appointment[i] > list_sum_appointment[i-1]:\n",
        "            result.append(lista_orginal[i]) \n",
        "            c -= lista_orginal[i]\n",
        "            i-=2\n",
        "        elif i == 0:\n",
        "            result.append(lista_orginal[i])\n",
        "            c -= lista_orginal[0]\n",
        "    result.reverse()\n",
        "    return result\n",
        "\n",
        "print_choises(lista, find_max(lista))"
      ],
      "execution_count": 97,
      "outputs": [
        {
          "output_type": "execute_result",
          "data": {
            "text/plain": [
              "[40, 50, 20]"
            ]
          },
          "metadata": {},
          "execution_count": 97
        }
      ]
    }
  ]
}